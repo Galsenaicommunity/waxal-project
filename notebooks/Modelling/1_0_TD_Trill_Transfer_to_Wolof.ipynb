{
  "cells": [
    {
      "cell_type": "markdown",
      "source": [
        "### Installation and configuration"
      ],
      "metadata": {
        "id": "XvbWUDlmvNw4"
      },
      "id": "XvbWUDlmvNw4"
    },
    {
      "cell_type": "code",
      "source": [
        "pip install pydub"
      ],
      "metadata": {
        "colab": {
          "base_uri": "https://localhost:8080/"
        },
        "id": "cdh0xKGnprFX",
        "outputId": "7aa783bb-37a9-42bb-b3d2-84f0f8abe332"
      },
      "id": "cdh0xKGnprFX",
      "execution_count": null,
      "outputs": [
        {
          "output_type": "stream",
          "name": "stdout",
          "text": [
            "Looking in indexes: https://pypi.org/simple, https://us-python.pkg.dev/colab-wheels/public/simple/\n",
            "Collecting pydub\n",
            "  Downloading pydub-0.25.1-py2.py3-none-any.whl (32 kB)\n",
            "Installing collected packages: pydub\n",
            "Successfully installed pydub-0.25.1\n"
          ]
        }
      ]
    },
    {
      "cell_type": "code",
      "source": [
        "from google.colab import drive\n",
        "drive.mount('/gdrive')"
      ],
      "metadata": {
        "colab": {
          "base_uri": "https://localhost:8080/"
        },
        "id": "nNy9aevXpy4A",
        "outputId": "42976de6-e970-4982-8cfe-b9190b63d40a"
      },
      "id": "nNy9aevXpy4A",
      "execution_count": null,
      "outputs": [
        {
          "output_type": "stream",
          "name": "stdout",
          "text": [
            "Mounted at /gdrive\n"
          ]
        }
      ]
    },
    {
      "cell_type": "code",
      "source": [
        "!apt install unrar"
      ],
      "metadata": {
        "colab": {
          "base_uri": "https://localhost:8080/"
        },
        "id": "F5xAR5N8py4C",
        "outputId": "71b1199f-95af-408c-bbef-2bf8145da4c4"
      },
      "id": "F5xAR5N8py4C",
      "execution_count": null,
      "outputs": [
        {
          "output_type": "stream",
          "name": "stdout",
          "text": [
            "Reading package lists... Done\n",
            "Building dependency tree       \n",
            "Reading state information... Done\n",
            "unrar is already the newest version (1:5.5.8-1).\n",
            "The following package was automatically installed and is no longer required:\n",
            "  libnvidia-common-460\n",
            "Use 'apt autoremove' to remove it.\n",
            "0 upgraded, 0 newly installed, 0 to remove and 20 not upgraded.\n"
          ]
        }
      ]
    },
    {
      "cell_type": "code",
      "source": [
        "ls /gdrive"
      ],
      "metadata": {
        "colab": {
          "base_uri": "https://localhost:8080/"
        },
        "id": "-_HKSN2AqLpu",
        "outputId": "e2885a42-bda1-4c08-affb-2b6ca3735dd7"
      },
      "id": "-_HKSN2AqLpu",
      "execution_count": null,
      "outputs": [
        {
          "output_type": "stream",
          "name": "stdout",
          "text": [
            "\u001b[0m\u001b[01;34mMyDrive\u001b[0m/\n"
          ]
        }
      ]
    },
    {
      "cell_type": "code",
      "source": [
        "!unrar x /gdrive/MyDrive/Keyword_spotting_dataset.rar"
      ],
      "metadata": {
        "id": "WM-23aArqIeT"
      },
      "id": "WM-23aArqIeT",
      "execution_count": null,
      "outputs": []
    },
    {
      "cell_type": "code",
      "source": [
        "ls"
      ],
      "metadata": {
        "colab": {
          "base_uri": "https://localhost:8080/"
        },
        "id": "k5vCD3fAq5p6",
        "outputId": "9351bda4-8924-4de9-de03-4783e24de86b"
      },
      "id": "k5vCD3fAq5p6",
      "execution_count": null,
      "outputs": [
        {
          "output_type": "stream",
          "name": "stdout",
          "text": [
            "\u001b[0m\u001b[01;34mdata_17042021\u001b[0m/  \u001b[01;34msample_data\u001b[0m/\n"
          ]
        }
      ]
    },
    {
      "cell_type": "code",
      "source": [
        "!mv data_17042021 data"
      ],
      "metadata": {
        "id": "r-IsBfwKq7IY"
      },
      "id": "r-IsBfwKq7IY",
      "execution_count": null,
      "outputs": []
    },
    {
      "cell_type": "code",
      "execution_count": null,
      "id": "fbd95364-c4cd-4dd3-a4b0-884967305faa",
      "metadata": {
        "id": "fbd95364-c4cd-4dd3-a4b0-884967305faa"
      },
      "outputs": [],
      "source": [
        "import pandas as pd\n",
        "import matplotlib.pyplot as plt\n",
        "import IPython.display as ipd\n",
        "import random \n",
        "from sklearn.model_selection import train_test_split\n",
        "import tensorflow as tf\n",
        "import numpy as np\n",
        "from pydub import AudioSegment\n",
        "import tensorflow_hub as hub"
      ]
    },
    {
      "cell_type": "markdown",
      "source": [
        "### Data ingestion and exploratory data analysis"
      ],
      "metadata": {
        "id": "uSEZJuOOvUg7"
      },
      "id": "uSEZJuOOvUg7"
    },
    {
      "cell_type": "code",
      "execution_count": null,
      "id": "398bd635-80a4-4aea-b0f0-8a6660612eac",
      "metadata": {
        "id": "398bd635-80a4-4aea-b0f0-8a6660612eac"
      },
      "outputs": [],
      "source": [
        "metadata = pd.read_excel(\"./data/clips.xlsx\")"
      ]
    },
    {
      "cell_type": "code",
      "execution_count": null,
      "id": "8fe0bccb-abd6-4eb1-bf02-83fe0a28c411",
      "metadata": {
        "id": "8fe0bccb-abd6-4eb1-bf02-83fe0a28c411",
        "outputId": "5bfddbfb-8779-4e57-c0be-b28b9aa891e8",
        "colab": {
          "base_uri": "https://localhost:8080/"
        }
      },
      "outputs": [
        {
          "output_type": "execute_result",
          "data": {
            "text/plain": [
              "(24653, 8)"
            ]
          },
          "metadata": {},
          "execution_count": 11
        }
      ],
      "source": [
        "metadata.shape"
      ]
    },
    {
      "cell_type": "code",
      "execution_count": null,
      "id": "1e5e2985-086c-41f6-a9b4-5b8ededa6d7a",
      "metadata": {
        "id": "1e5e2985-086c-41f6-a9b4-5b8ededa6d7a",
        "outputId": "51a9c615-e325-4a00-e5b2-cb7c0c22e407",
        "colab": {
          "base_uri": "https://localhost:8080/",
          "height": 382
        }
      },
      "outputs": [
        {
          "output_type": "execute_result",
          "data": {
            "text/plain": [
              "                                                                      0  \\\n",
              "id                                                                    1   \n",
              "client_id                          0e183bb3-5449-48d5-b5b8-9c0b19d55f02   \n",
              "path                  0e183bb3-5449-48d5-b5b8-9c0b19d55f02/e9e9661cb...   \n",
              "sentence                                                          O ɓox   \n",
              "original_sentence_id  e9e9661cbf9855949c094f6de4001dc1b19ed761c2ea5c...   \n",
              "created_at                                          2021-01-15 10:44:05   \n",
              "bucket                                                            train   \n",
              "locale_id                                                             6   \n",
              "\n",
              "                                                                      1  \\\n",
              "id                                                                    2   \n",
              "client_id                          0e183bb3-5449-48d5-b5b8-9c0b19d55f02   \n",
              "path                  0e183bb3-5449-48d5-b5b8-9c0b19d55f02/02a670ba9...   \n",
              "sentence                                                    Ƥetaa-naxak   \n",
              "original_sentence_id  02a670ba96f24cf45750adc406799c79b3e03f7dc76d97...   \n",
              "created_at                                          2021-01-15 10:44:07   \n",
              "bucket                                                            train   \n",
              "locale_id                                                             6   \n",
              "\n",
              "                                                                      2  \\\n",
              "id                                                                    3   \n",
              "client_id                          0e183bb3-5449-48d5-b5b8-9c0b19d55f02   \n",
              "path                  0e183bb3-5449-48d5-b5b8-9c0b19d55f02/dda43373b...   \n",
              "sentence                                                         A ñaaƴ   \n",
              "original_sentence_id  dda43373b34abed8f54a694a161240e010488d17ad6bf9...   \n",
              "created_at                                          2021-01-15 10:44:09   \n",
              "bucket                                                            train   \n",
              "locale_id                                                             6   \n",
              "\n",
              "                                                                      3  \\\n",
              "id                                                                    4   \n",
              "client_id                          0e183bb3-5449-48d5-b5b8-9c0b19d55f02   \n",
              "path                  0e183bb3-5449-48d5-b5b8-9c0b19d55f02/c0cd07156...   \n",
              "sentence                                                          Tadik   \n",
              "original_sentence_id  c0cd0715685c2ce27277b01f4f6a141027bc56ebf3b6f4...   \n",
              "created_at                                          2021-01-15 10:44:11   \n",
              "bucket                                                            train   \n",
              "locale_id                                                             6   \n",
              "\n",
              "                                                                      4  \n",
              "id                                                                    5  \n",
              "client_id                          0e183bb3-5449-48d5-b5b8-9c0b19d55f02  \n",
              "path                  0e183bb3-5449-48d5-b5b8-9c0b19d55f02/9cc6f1ad7...  \n",
              "sentence                                                       Xarɓaxay  \n",
              "original_sentence_id  9cc6f1ad7b4559ccd62a51ca6dde93ff82604eff3f696e...  \n",
              "created_at                                          2021-01-15 10:44:14  \n",
              "bucket                                                            train  \n",
              "locale_id                                                             6  "
            ],
            "text/html": [
              "\n",
              "  <div id=\"df-e7eba93e-a02a-496a-aed0-56a7ac6c2146\">\n",
              "    <div class=\"colab-df-container\">\n",
              "      <div>\n",
              "<style scoped>\n",
              "    .dataframe tbody tr th:only-of-type {\n",
              "        vertical-align: middle;\n",
              "    }\n",
              "\n",
              "    .dataframe tbody tr th {\n",
              "        vertical-align: top;\n",
              "    }\n",
              "\n",
              "    .dataframe thead th {\n",
              "        text-align: right;\n",
              "    }\n",
              "</style>\n",
              "<table border=\"1\" class=\"dataframe\">\n",
              "  <thead>\n",
              "    <tr style=\"text-align: right;\">\n",
              "      <th></th>\n",
              "      <th>0</th>\n",
              "      <th>1</th>\n",
              "      <th>2</th>\n",
              "      <th>3</th>\n",
              "      <th>4</th>\n",
              "    </tr>\n",
              "  </thead>\n",
              "  <tbody>\n",
              "    <tr>\n",
              "      <th>id</th>\n",
              "      <td>1</td>\n",
              "      <td>2</td>\n",
              "      <td>3</td>\n",
              "      <td>4</td>\n",
              "      <td>5</td>\n",
              "    </tr>\n",
              "    <tr>\n",
              "      <th>client_id</th>\n",
              "      <td>0e183bb3-5449-48d5-b5b8-9c0b19d55f02</td>\n",
              "      <td>0e183bb3-5449-48d5-b5b8-9c0b19d55f02</td>\n",
              "      <td>0e183bb3-5449-48d5-b5b8-9c0b19d55f02</td>\n",
              "      <td>0e183bb3-5449-48d5-b5b8-9c0b19d55f02</td>\n",
              "      <td>0e183bb3-5449-48d5-b5b8-9c0b19d55f02</td>\n",
              "    </tr>\n",
              "    <tr>\n",
              "      <th>path</th>\n",
              "      <td>0e183bb3-5449-48d5-b5b8-9c0b19d55f02/e9e9661cb...</td>\n",
              "      <td>0e183bb3-5449-48d5-b5b8-9c0b19d55f02/02a670ba9...</td>\n",
              "      <td>0e183bb3-5449-48d5-b5b8-9c0b19d55f02/dda43373b...</td>\n",
              "      <td>0e183bb3-5449-48d5-b5b8-9c0b19d55f02/c0cd07156...</td>\n",
              "      <td>0e183bb3-5449-48d5-b5b8-9c0b19d55f02/9cc6f1ad7...</td>\n",
              "    </tr>\n",
              "    <tr>\n",
              "      <th>sentence</th>\n",
              "      <td>O ɓox</td>\n",
              "      <td>Ƥetaa-naxak</td>\n",
              "      <td>A ñaaƴ</td>\n",
              "      <td>Tadik</td>\n",
              "      <td>Xarɓaxay</td>\n",
              "    </tr>\n",
              "    <tr>\n",
              "      <th>original_sentence_id</th>\n",
              "      <td>e9e9661cbf9855949c094f6de4001dc1b19ed761c2ea5c...</td>\n",
              "      <td>02a670ba96f24cf45750adc406799c79b3e03f7dc76d97...</td>\n",
              "      <td>dda43373b34abed8f54a694a161240e010488d17ad6bf9...</td>\n",
              "      <td>c0cd0715685c2ce27277b01f4f6a141027bc56ebf3b6f4...</td>\n",
              "      <td>9cc6f1ad7b4559ccd62a51ca6dde93ff82604eff3f696e...</td>\n",
              "    </tr>\n",
              "    <tr>\n",
              "      <th>created_at</th>\n",
              "      <td>2021-01-15 10:44:05</td>\n",
              "      <td>2021-01-15 10:44:07</td>\n",
              "      <td>2021-01-15 10:44:09</td>\n",
              "      <td>2021-01-15 10:44:11</td>\n",
              "      <td>2021-01-15 10:44:14</td>\n",
              "    </tr>\n",
              "    <tr>\n",
              "      <th>bucket</th>\n",
              "      <td>train</td>\n",
              "      <td>train</td>\n",
              "      <td>train</td>\n",
              "      <td>train</td>\n",
              "      <td>train</td>\n",
              "    </tr>\n",
              "    <tr>\n",
              "      <th>locale_id</th>\n",
              "      <td>6</td>\n",
              "      <td>6</td>\n",
              "      <td>6</td>\n",
              "      <td>6</td>\n",
              "      <td>6</td>\n",
              "    </tr>\n",
              "  </tbody>\n",
              "</table>\n",
              "</div>\n",
              "      <button class=\"colab-df-convert\" onclick=\"convertToInteractive('df-e7eba93e-a02a-496a-aed0-56a7ac6c2146')\"\n",
              "              title=\"Convert this dataframe to an interactive table.\"\n",
              "              style=\"display:none;\">\n",
              "        \n",
              "  <svg xmlns=\"http://www.w3.org/2000/svg\" height=\"24px\"viewBox=\"0 0 24 24\"\n",
              "       width=\"24px\">\n",
              "    <path d=\"M0 0h24v24H0V0z\" fill=\"none\"/>\n",
              "    <path d=\"M18.56 5.44l.94 2.06.94-2.06 2.06-.94-2.06-.94-.94-2.06-.94 2.06-2.06.94zm-11 1L8.5 8.5l.94-2.06 2.06-.94-2.06-.94L8.5 2.5l-.94 2.06-2.06.94zm10 10l.94 2.06.94-2.06 2.06-.94-2.06-.94-.94-2.06-.94 2.06-2.06.94z\"/><path d=\"M17.41 7.96l-1.37-1.37c-.4-.4-.92-.59-1.43-.59-.52 0-1.04.2-1.43.59L10.3 9.45l-7.72 7.72c-.78.78-.78 2.05 0 2.83L4 21.41c.39.39.9.59 1.41.59.51 0 1.02-.2 1.41-.59l7.78-7.78 2.81-2.81c.8-.78.8-2.07 0-2.86zM5.41 20L4 18.59l7.72-7.72 1.47 1.35L5.41 20z\"/>\n",
              "  </svg>\n",
              "      </button>\n",
              "      \n",
              "  <style>\n",
              "    .colab-df-container {\n",
              "      display:flex;\n",
              "      flex-wrap:wrap;\n",
              "      gap: 12px;\n",
              "    }\n",
              "\n",
              "    .colab-df-convert {\n",
              "      background-color: #E8F0FE;\n",
              "      border: none;\n",
              "      border-radius: 50%;\n",
              "      cursor: pointer;\n",
              "      display: none;\n",
              "      fill: #1967D2;\n",
              "      height: 32px;\n",
              "      padding: 0 0 0 0;\n",
              "      width: 32px;\n",
              "    }\n",
              "\n",
              "    .colab-df-convert:hover {\n",
              "      background-color: #E2EBFA;\n",
              "      box-shadow: 0px 1px 2px rgba(60, 64, 67, 0.3), 0px 1px 3px 1px rgba(60, 64, 67, 0.15);\n",
              "      fill: #174EA6;\n",
              "    }\n",
              "\n",
              "    [theme=dark] .colab-df-convert {\n",
              "      background-color: #3B4455;\n",
              "      fill: #D2E3FC;\n",
              "    }\n",
              "\n",
              "    [theme=dark] .colab-df-convert:hover {\n",
              "      background-color: #434B5C;\n",
              "      box-shadow: 0px 1px 3px 1px rgba(0, 0, 0, 0.15);\n",
              "      filter: drop-shadow(0px 1px 2px rgba(0, 0, 0, 0.3));\n",
              "      fill: #FFFFFF;\n",
              "    }\n",
              "  </style>\n",
              "\n",
              "      <script>\n",
              "        const buttonEl =\n",
              "          document.querySelector('#df-e7eba93e-a02a-496a-aed0-56a7ac6c2146 button.colab-df-convert');\n",
              "        buttonEl.style.display =\n",
              "          google.colab.kernel.accessAllowed ? 'block' : 'none';\n",
              "\n",
              "        async function convertToInteractive(key) {\n",
              "          const element = document.querySelector('#df-e7eba93e-a02a-496a-aed0-56a7ac6c2146');\n",
              "          const dataTable =\n",
              "            await google.colab.kernel.invokeFunction('convertToInteractive',\n",
              "                                                     [key], {});\n",
              "          if (!dataTable) return;\n",
              "\n",
              "          const docLinkHtml = 'Like what you see? Visit the ' +\n",
              "            '<a target=\"_blank\" href=https://colab.research.google.com/notebooks/data_table.ipynb>data table notebook</a>'\n",
              "            + ' to learn more about interactive tables.';\n",
              "          element.innerHTML = '';\n",
              "          dataTable['output_type'] = 'display_data';\n",
              "          await google.colab.output.renderOutput(dataTable, element);\n",
              "          const docLink = document.createElement('div');\n",
              "          docLink.innerHTML = docLinkHtml;\n",
              "          element.appendChild(docLink);\n",
              "        }\n",
              "      </script>\n",
              "    </div>\n",
              "  </div>\n",
              "  "
            ]
          },
          "metadata": {},
          "execution_count": 12
        }
      ],
      "source": [
        "metadata.head().T"
      ]
    },
    {
      "cell_type": "code",
      "execution_count": null,
      "id": "ab7a0487-c871-4d0d-a670-10f4703fea2a",
      "metadata": {
        "id": "ab7a0487-c871-4d0d-a670-10f4703fea2a",
        "outputId": "48e68ab2-a75d-4f5c-dfba-be2c92b57e95"
      },
      "outputs": [
        {
          "data": {
            "text/plain": [
              "Tus (0)             427\n",
              "Doxal (Marche)      382\n",
              "Juroom-ñett (8)     382\n",
              "Ci kanam (Avant)    381\n",
              "Juroom-ñeent (9)    381\n",
              "                   ... \n",
              "Karago (5)            1\n",
              "Xobo (Acheter)        1\n",
              "Gaaga (Vendre)        1\n",
              "Wulle (Chien)         1\n",
              "Tammu (10)            1\n",
              "Name: sentence, Length: 415, dtype: int64"
            ]
          },
          "execution_count": 17,
          "metadata": {},
          "output_type": "execute_result"
        }
      ],
      "source": [
        "metadata.sentence.value_counts()"
      ]
    },
    {
      "cell_type": "code",
      "execution_count": null,
      "id": "e15f7fc7-1715-4c7d-b71d-8b35681c33d9",
      "metadata": {
        "id": "e15f7fc7-1715-4c7d-b71d-8b35681c33d9",
        "outputId": "e289f9e2-ddfa-4609-aed3-7fa737bcba78",
        "colab": {
          "base_uri": "https://localhost:8080/"
        }
      },
      "outputs": [
        {
          "output_type": "execute_result",
          "data": {
            "text/plain": [
              "415"
            ]
          },
          "metadata": {},
          "execution_count": 13
        }
      ],
      "source": [
        "metadata.sentence.nunique()"
      ]
    },
    {
      "cell_type": "code",
      "execution_count": null,
      "id": "a739bc18-8fb0-4f94-b36e-50d201998ec8",
      "metadata": {
        "id": "a739bc18-8fb0-4f94-b36e-50d201998ec8",
        "outputId": "80c46ec1-6c23-4d47-8b55-6fa921a7327c"
      },
      "outputs": [
        {
          "data": {
            "text/plain": [
              "<AxesSubplot: >"
            ]
          },
          "execution_count": 19,
          "metadata": {},
          "output_type": "execute_result"
        },
        {
          "data": {
            "image/png": "[encoded data removed]",
            "text/plain": [
              "<Figure size 640x480 with 1 Axes>"
            ]
          },
          "metadata": {},
          "output_type": "display_data"
        }
      ],
      "source": [
        "metadata.locale_id.value_counts().plot(kind=\"bar\")"
      ]
    },
    {
      "cell_type": "code",
      "execution_count": null,
      "id": "8afe4e14-5b74-4d41-81e3-258e98790c3e",
      "metadata": {
        "id": "8afe4e14-5b74-4d41-81e3-258e98790c3e"
      },
      "outputs": [],
      "source": [
        "wolof_data = metadata[metadata[\"locale_id\"] == 7]"
      ]
    },
    {
      "cell_type": "code",
      "execution_count": null,
      "id": "0725168a-d26b-43ba-8e50-b5dd14e8df5e",
      "metadata": {
        "colab": {
          "base_uri": "https://localhost:8080/"
        },
        "id": "0725168a-d26b-43ba-8e50-b5dd14e8df5e",
        "outputId": "0ab0f7ac-ab09-4f24-f050-8263797f90f1"
      },
      "outputs": [
        {
          "output_type": "execute_result",
          "data": {
            "text/plain": [
              "Index(['Doxal (Marche)', 'Juroom-ñett (8)', 'Ci kanam (Avant)',\n",
              "       'Juroom-ñeent (9)', 'Xaj (Chien)', 'Ci suuf (Bas)',\n",
              "       'Milyoŋ (1 000 000)', 'Fanweer (30)', 'Juroom (5)', 'Ak (Et)'],\n",
              "      dtype='object')"
            ]
          },
          "metadata": {},
          "execution_count": 15
        }
      ],
      "source": [
        "top_10_words = wolof_data.sentence.value_counts().iloc[:10].index\n",
        "top_10_words"
      ]
    },
    {
      "cell_type": "code",
      "execution_count": null,
      "id": "49ecceac-4367-471e-83ee-a749eaaf80e6",
      "metadata": {
        "id": "49ecceac-4367-471e-83ee-a749eaaf80e6"
      },
      "outputs": [],
      "source": [
        "wolof_data = wolof_data[wolof_data.sentence.isin(top_10_words)]"
      ]
    },
    {
      "cell_type": "code",
      "execution_count": null,
      "id": "80f7bb7a-04e2-4de3-ab87-ec6911c862c0",
      "metadata": {
        "colab": {
          "base_uri": "https://localhost:8080/"
        },
        "id": "80f7bb7a-04e2-4de3-ab87-ec6911c862c0",
        "outputId": "c8f3ee02-722e-40c6-ca0a-f0393584a024"
      },
      "outputs": [
        {
          "output_type": "execute_result",
          "data": {
            "text/plain": [
              "(3804, 8)"
            ]
          },
          "metadata": {},
          "execution_count": 76
        }
      ],
      "source": [
        "wolof_data.shape"
      ]
    },
    {
      "cell_type": "code",
      "execution_count": null,
      "id": "22940c86-cbf2-498c-8f81-9d2811cdbc17",
      "metadata": {
        "colab": {
          "base_uri": "https://localhost:8080/"
        },
        "id": "22940c86-cbf2-498c-8f81-9d2811cdbc17",
        "outputId": "dd5ce6d6-255a-4590-89ff-99df161abc9f"
      },
      "outputs": [
        {
          "output_type": "execute_result",
          "data": {
            "text/plain": [
              "10"
            ]
          },
          "metadata": {},
          "execution_count": 77
        }
      ],
      "source": [
        "wolof_data.sentence.nunique()"
      ]
    },
    {
      "cell_type": "code",
      "execution_count": null,
      "id": "801a9c5e-298a-42b0-b9eb-52eceaf7fc5f",
      "metadata": {
        "colab": {
          "base_uri": "https://localhost:8080/"
        },
        "id": "801a9c5e-298a-42b0-b9eb-52eceaf7fc5f",
        "outputId": "5cdc31d5-b8ff-40c3-a95b-f1ec40b4ab89"
      },
      "outputs": [
        {
          "output_type": "execute_result",
          "data": {
            "text/plain": [
              "397"
            ]
          },
          "metadata": {},
          "execution_count": 17
        }
      ],
      "source": [
        "wolof_data.client_id.nunique()"
      ]
    },
    {
      "cell_type": "code",
      "execution_count": null,
      "id": "7508b635-022a-4e7a-8e69-958c4b748949",
      "metadata": {
        "id": "7508b635-022a-4e7a-8e69-958c4b748949",
        "outputId": "6c37cbf6-abc2-4db7-8f6b-0b5d613cb73c",
        "colab": {
          "base_uri": "https://localhost:8080/",
          "height": 284
        }
      },
      "outputs": [
        {
          "output_type": "execute_result",
          "data": {
            "text/plain": [
              "<matplotlib.axes._subplots.AxesSubplot at 0x7f6caf79b850>"
            ]
          },
          "metadata": {},
          "execution_count": 79
        },
        {
          "output_type": "display_data",
          "data": {
            "text/plain": [
              "<Figure size 432x288 with 1 Axes>"
            ],
            "image/png": "[encoded data removed]"
          },
          "metadata": {
            "needs_background": "light"
          }
        }
      ],
      "source": [
        "wolof_data.client_id.value_counts().plot(kind=\"box\")"
      ]
    },
    {
      "cell_type": "code",
      "execution_count": null,
      "id": "b67fc71a-c63b-4288-b999-4928bfa3750d",
      "metadata": {
        "id": "b67fc71a-c63b-4288-b999-4928bfa3750d",
        "outputId": "1e8da98c-fe7c-4b87-d230-cc8f0bf3b390",
        "colab": {
          "base_uri": "https://localhost:8080/",
          "height": 1000
        }
      },
      "outputs": [
        {
          "output_type": "execute_result",
          "data": {
            "text/plain": [
              "<matplotlib.axes._subplots.AxesSubplot at 0x7f6cb4b89370>"
            ]
          },
          "metadata": {},
          "execution_count": 80
        },
        {
          "output_type": "display_data",
          "data": {
            "text/plain": [
              "<Figure size 1440x1440 with 1 Axes>"
            ],
            "image/png": "[encoded data removed]"
          },
          "metadata": {
            "needs_background": "light"
          }
        }
      ],
      "source": [
        "plt.figure(figsize=(20,20))\n",
        "wolof_data.sentence.value_counts().plot(kind=\"barh\")"
      ]
    },
    {
      "cell_type": "code",
      "execution_count": null,
      "id": "29ca82f3-090d-4fe4-bf19-ce4c9f8acf0b",
      "metadata": {
        "id": "29ca82f3-090d-4fe4-bf19-ce4c9f8acf0b",
        "outputId": "68a41dea-ea31-4858-fc01-4abeae220060",
        "colab": {
          "base_uri": "https://localhost:8080/",
          "height": 53
        }
      },
      "outputs": [
        {
          "output_type": "execute_result",
          "data": {
            "text/plain": [
              "'7c7d3dc1-f50c-4b56-a9fa-09bce238a5ea/269d41d0b9c7fde416800c18e783681bb47c13eb2e779dbb1e2512e973c46adf.mp3'"
            ],
            "application/vnd.google.colaboratory.intrinsic+json": {
              "type": "string"
            }
          },
          "metadata": {},
          "execution_count": 18
        }
      ],
      "source": [
        "wolof_data.path.iloc[0]"
      ]
    },
    {
      "cell_type": "code",
      "execution_count": null,
      "id": "6886a9d5-f42c-4130-90eb-67ba428c1380",
      "metadata": {
        "colab": {
          "base_uri": "https://localhost:8080/",
          "height": 93
        },
        "id": "6886a9d5-f42c-4130-90eb-67ba428c1380",
        "outputId": "be688a3a-6b83-4798-89c3-e75be93cde35"
      },
      "outputs": [
        {
          "output_type": "stream",
          "name": "stdout",
          "text": [
            "Doxal (Marche)\n"
          ]
        },
        {
          "output_type": "execute_result",
          "data": {
            "text/plain": [
              "<IPython.lib.display.Audio object>"
            ],
            "text/html": [
              "\n",
              "                <audio  controls=\"controls\" >\n",
              "                    <source src=\"data:audio/mpeg;base64,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\" type=\"audio/mpeg\" />\n",
              "                    Your browser does not support the audio element.\n",
              "                </audio>\n",
              "              "
            ]
          },
          "metadata": {},
          "execution_count": 22
        }
      ],
      "source": [
        "random_audio = random.randint(0, len(wolof_data))\n",
        "print(wolof_data.sentence.iloc[random_audio])\n",
        "ipd.Audio(f\"data/{wolof_data.path.iloc[random_audio]}\")"
      ]
    },
    {
      "cell_type": "code",
      "execution_count": null,
      "id": "d577fd11-9c1a-4975-bbf5-93c5652c92d9",
      "metadata": {
        "id": "d577fd11-9c1a-4975-bbf5-93c5652c92d9",
        "outputId": "75379b48-fdbe-4515-dc85-ba81e00dc9a7",
        "colab": {
          "base_uri": "https://localhost:8080/",
          "height": 206
        }
      },
      "outputs": [
        {
          "output_type": "execute_result",
          "data": {
            "text/plain": [
              "        id                             client_id  \\\n",
              "1495  1844  7c7d3dc1-f50c-4b56-a9fa-09bce238a5ea   \n",
              "1500  1849  7c7d3dc1-f50c-4b56-a9fa-09bce238a5ea   \n",
              "1504  1853  7c7d3dc1-f50c-4b56-a9fa-09bce238a5ea   \n",
              "1505  1854  7c7d3dc1-f50c-4b56-a9fa-09bce238a5ea   \n",
              "1543  1909  99e581cc-45db-415b-8c47-5c8445027e48   \n",
              "\n",
              "                                                   path            sentence  \\\n",
              "1495  7c7d3dc1-f50c-4b56-a9fa-09bce238a5ea/269d41d0b...  Milyoŋ (1 000 000)   \n",
              "1500  7c7d3dc1-f50c-4b56-a9fa-09bce238a5ea/5f0d1a5a5...        Fanweer (30)   \n",
              "1504  7c7d3dc1-f50c-4b56-a9fa-09bce238a5ea/73b5693cc...      Doxal (Marche)   \n",
              "1505  7c7d3dc1-f50c-4b56-a9fa-09bce238a5ea/3b0b8160b...    Ci kanam (Avant)   \n",
              "1543  99e581cc-45db-415b-8c47-5c8445027e48/f6eeb64cd...     Juroom-ñett (8)   \n",
              "\n",
              "                                   original_sentence_id          created_at  \\\n",
              "1495  269d41d0b9c7fde416800c18e783681bb47c13eb2e779d... 2021-02-20 20:53:45   \n",
              "1500  5f0d1a5a518752f7c350a88c0033a7c2888d3870228bca... 2021-02-20 20:54:57   \n",
              "1504  73b5693cc877448813f191ffd3910f9d4b835ae5c15cb3... 2021-02-20 20:55:26   \n",
              "1505  3b0b8160b765d7ba5ed3fda246dc24c4e4e59f3a794bc0... 2021-02-20 20:55:36   \n",
              "1543  f6eeb64cd13430773743e74cfc9dd5026ad1904e8c7826... 2021-02-20 21:06:52   \n",
              "\n",
              "     bucket  locale_id  \n",
              "1495  train          7  \n",
              "1500  train          7  \n",
              "1504  train          7  \n",
              "1505  train          7  \n",
              "1543  train          7  "
            ],
            "text/html": [
              "\n",
              "  <div id=\"df-8e6dd2be-91d3-4d76-b8a4-608a83d5636d\">\n",
              "    <div class=\"colab-df-container\">\n",
              "      <div>\n",
              "<style scoped>\n",
              "    .dataframe tbody tr th:only-of-type {\n",
              "        vertical-align: middle;\n",
              "    }\n",
              "\n",
              "    .dataframe tbody tr th {\n",
              "        vertical-align: top;\n",
              "    }\n",
              "\n",
              "    .dataframe thead th {\n",
              "        text-align: right;\n",
              "    }\n",
              "</style>\n",
              "<table border=\"1\" class=\"dataframe\">\n",
              "  <thead>\n",
              "    <tr style=\"text-align: right;\">\n",
              "      <th></th>\n",
              "      <th>id</th>\n",
              "      <th>client_id</th>\n",
              "      <th>path</th>\n",
              "      <th>sentence</th>\n",
              "      <th>original_sentence_id</th>\n",
              "      <th>created_at</th>\n",
              "      <th>bucket</th>\n",
              "      <th>locale_id</th>\n",
              "    </tr>\n",
              "  </thead>\n",
              "  <tbody>\n",
              "    <tr>\n",
              "      <th>1495</th>\n",
              "      <td>1844</td>\n",
              "      <td>7c7d3dc1-f50c-4b56-a9fa-09bce238a5ea</td>\n",
              "      <td>7c7d3dc1-f50c-4b56-a9fa-09bce238a5ea/269d41d0b...</td>\n",
              "      <td>Milyoŋ (1 000 000)</td>\n",
              "      <td>269d41d0b9c7fde416800c18e783681bb47c13eb2e779d...</td>\n",
              "      <td>2021-02-20 20:53:45</td>\n",
              "      <td>train</td>\n",
              "      <td>7</td>\n",
              "    </tr>\n",
              "    <tr>\n",
              "      <th>1500</th>\n",
              "      <td>1849</td>\n",
              "      <td>7c7d3dc1-f50c-4b56-a9fa-09bce238a5ea</td>\n",
              "      <td>7c7d3dc1-f50c-4b56-a9fa-09bce238a5ea/5f0d1a5a5...</td>\n",
              "      <td>Fanweer (30)</td>\n",
              "      <td>5f0d1a5a518752f7c350a88c0033a7c2888d3870228bca...</td>\n",
              "      <td>2021-02-20 20:54:57</td>\n",
              "      <td>train</td>\n",
              "      <td>7</td>\n",
              "    </tr>\n",
              "    <tr>\n",
              "      <th>1504</th>\n",
              "      <td>1853</td>\n",
              "      <td>7c7d3dc1-f50c-4b56-a9fa-09bce238a5ea</td>\n",
              "      <td>7c7d3dc1-f50c-4b56-a9fa-09bce238a5ea/73b5693cc...</td>\n",
              "      <td>Doxal (Marche)</td>\n",
              "      <td>73b5693cc877448813f191ffd3910f9d4b835ae5c15cb3...</td>\n",
              "      <td>2021-02-20 20:55:26</td>\n",
              "      <td>train</td>\n",
              "      <td>7</td>\n",
              "    </tr>\n",
              "    <tr>\n",
              "      <th>1505</th>\n",
              "      <td>1854</td>\n",
              "      <td>7c7d3dc1-f50c-4b56-a9fa-09bce238a5ea</td>\n",
              "      <td>7c7d3dc1-f50c-4b56-a9fa-09bce238a5ea/3b0b8160b...</td>\n",
              "      <td>Ci kanam (Avant)</td>\n",
              "      <td>3b0b8160b765d7ba5ed3fda246dc24c4e4e59f3a794bc0...</td>\n",
              "      <td>2021-02-20 20:55:36</td>\n",
              "      <td>train</td>\n",
              "      <td>7</td>\n",
              "    </tr>\n",
              "    <tr>\n",
              "      <th>1543</th>\n",
              "      <td>1909</td>\n",
              "      <td>99e581cc-45db-415b-8c47-5c8445027e48</td>\n",
              "      <td>99e581cc-45db-415b-8c47-5c8445027e48/f6eeb64cd...</td>\n",
              "      <td>Juroom-ñett (8)</td>\n",
              "      <td>f6eeb64cd13430773743e74cfc9dd5026ad1904e8c7826...</td>\n",
              "      <td>2021-02-20 21:06:52</td>\n",
              "      <td>train</td>\n",
              "      <td>7</td>\n",
              "    </tr>\n",
              "  </tbody>\n",
              "</table>\n",
              "</div>\n",
              "      <button class=\"colab-df-convert\" onclick=\"convertToInteractive('df-8e6dd2be-91d3-4d76-b8a4-608a83d5636d')\"\n",
              "              title=\"Convert this dataframe to an interactive table.\"\n",
              "              style=\"display:none;\">\n",
              "        \n",
              "  <svg xmlns=\"http://www.w3.org/2000/svg\" height=\"24px\"viewBox=\"0 0 24 24\"\n",
              "       width=\"24px\">\n",
              "    <path d=\"M0 0h24v24H0V0z\" fill=\"none\"/>\n",
              "    <path d=\"M18.56 5.44l.94 2.06.94-2.06 2.06-.94-2.06-.94-.94-2.06-.94 2.06-2.06.94zm-11 1L8.5 8.5l.94-2.06 2.06-.94-2.06-.94L8.5 2.5l-.94 2.06-2.06.94zm10 10l.94 2.06.94-2.06 2.06-.94-2.06-.94-.94-2.06-.94 2.06-2.06.94z\"/><path d=\"M17.41 7.96l-1.37-1.37c-.4-.4-.92-.59-1.43-.59-.52 0-1.04.2-1.43.59L10.3 9.45l-7.72 7.72c-.78.78-.78 2.05 0 2.83L4 21.41c.39.39.9.59 1.41.59.51 0 1.02-.2 1.41-.59l7.78-7.78 2.81-2.81c.8-.78.8-2.07 0-2.86zM5.41 20L4 18.59l7.72-7.72 1.47 1.35L5.41 20z\"/>\n",
              "  </svg>\n",
              "      </button>\n",
              "      \n",
              "  <style>\n",
              "    .colab-df-container {\n",
              "      display:flex;\n",
              "      flex-wrap:wrap;\n",
              "      gap: 12px;\n",
              "    }\n",
              "\n",
              "    .colab-df-convert {\n",
              "      background-color: #E8F0FE;\n",
              "      border: none;\n",
              "      border-radius: 50%;\n",
              "      cursor: pointer;\n",
              "      display: none;\n",
              "      fill: #1967D2;\n",
              "      height: 32px;\n",
              "      padding: 0 0 0 0;\n",
              "      width: 32px;\n",
              "    }\n",
              "\n",
              "    .colab-df-convert:hover {\n",
              "      background-color: #E2EBFA;\n",
              "      box-shadow: 0px 1px 2px rgba(60, 64, 67, 0.3), 0px 1px 3px 1px rgba(60, 64, 67, 0.15);\n",
              "      fill: #174EA6;\n",
              "    }\n",
              "\n",
              "    [theme=dark] .colab-df-convert {\n",
              "      background-color: #3B4455;\n",
              "      fill: #D2E3FC;\n",
              "    }\n",
              "\n",
              "    [theme=dark] .colab-df-convert:hover {\n",
              "      background-color: #434B5C;\n",
              "      box-shadow: 0px 1px 3px 1px rgba(0, 0, 0, 0.15);\n",
              "      filter: drop-shadow(0px 1px 2px rgba(0, 0, 0, 0.3));\n",
              "      fill: #FFFFFF;\n",
              "    }\n",
              "  </style>\n",
              "\n",
              "      <script>\n",
              "        const buttonEl =\n",
              "          document.querySelector('#df-8e6dd2be-91d3-4d76-b8a4-608a83d5636d button.colab-df-convert');\n",
              "        buttonEl.style.display =\n",
              "          google.colab.kernel.accessAllowed ? 'block' : 'none';\n",
              "\n",
              "        async function convertToInteractive(key) {\n",
              "          const element = document.querySelector('#df-8e6dd2be-91d3-4d76-b8a4-608a83d5636d');\n",
              "          const dataTable =\n",
              "            await google.colab.kernel.invokeFunction('convertToInteractive',\n",
              "                                                     [key], {});\n",
              "          if (!dataTable) return;\n",
              "\n",
              "          const docLinkHtml = 'Like what you see? Visit the ' +\n",
              "            '<a target=\"_blank\" href=https://colab.research.google.com/notebooks/data_table.ipynb>data table notebook</a>'\n",
              "            + ' to learn more about interactive tables.';\n",
              "          element.innerHTML = '';\n",
              "          dataTable['output_type'] = 'display_data';\n",
              "          await google.colab.output.renderOutput(dataTable, element);\n",
              "          const docLink = document.createElement('div');\n",
              "          docLink.innerHTML = docLinkHtml;\n",
              "          element.appendChild(docLink);\n",
              "        }\n",
              "      </script>\n",
              "    </div>\n",
              "  </div>\n",
              "  "
            ]
          },
          "metadata": {},
          "execution_count": 83
        }
      ],
      "source": [
        "wolof_data.head()"
      ]
    },
    {
      "cell_type": "code",
      "execution_count": null,
      "id": "8fc0f13d-5405-457a-af02-3fdc18f5a222",
      "metadata": {
        "id": "8fc0f13d-5405-457a-af02-3fdc18f5a222"
      },
      "outputs": [],
      "source": [
        "index_to_command = {i:command for i,command in enumerate(wolof_data.sentence.unique())}\n",
        "command_to_index = {y: x for x, y in index_to_command.items()}"
      ]
    },
    {
      "cell_type": "code",
      "execution_count": null,
      "id": "9c52dde1-f916-4771-80b9-964502155bed",
      "metadata": {
        "id": "9c52dde1-f916-4771-80b9-964502155bed",
        "outputId": "e95e55ae-f95e-4130-b30b-6edfcc9a022c",
        "colab": {
          "base_uri": "https://localhost:8080/"
        }
      },
      "outputs": [
        {
          "output_type": "execute_result",
          "data": {
            "text/plain": [
              "{0: 'Milyoŋ (1 000 000)',\n",
              " 1: 'Fanweer (30)',\n",
              " 2: 'Doxal (Marche)',\n",
              " 3: 'Ci kanam (Avant)',\n",
              " 4: 'Juroom-ñett (8)',\n",
              " 5: 'Ci suuf (Bas)',\n",
              " 6: 'Juroom-ñeent (9)',\n",
              " 7: 'Ak (Et)',\n",
              " 8: 'Xaj (Chien)',\n",
              " 9: 'Juroom (5)'}"
            ]
          },
          "metadata": {},
          "execution_count": 25
        }
      ],
      "source": [
        "index_to_command"
      ]
    },
    {
      "cell_type": "code",
      "execution_count": null,
      "id": "ab84ca99-2389-45f4-8108-39bd4cd067ea",
      "metadata": {
        "id": "ab84ca99-2389-45f4-8108-39bd4cd067ea"
      },
      "outputs": [],
      "source": [
        "wolof_data[\"label\"] = wolof_data.sentence.apply(lambda command: command_to_index[command])"
      ]
    },
    {
      "cell_type": "code",
      "execution_count": null,
      "id": "3bfdad15-7039-4118-9f5d-acaba2348939",
      "metadata": {
        "tags": [],
        "id": "3bfdad15-7039-4118-9f5d-acaba2348939"
      },
      "outputs": [],
      "source": [
        "wolof_data.drop(columns=[\"id\", \"client_id\", \"sentence\", \"original_sentence_id\", \"created_at\", \"bucket\", \"locale_id\"], inplace=True)"
      ]
    },
    {
      "cell_type": "code",
      "execution_count": null,
      "id": "41d93515-f9a3-4209-8369-04cad51f7082",
      "metadata": {
        "id": "41d93515-f9a3-4209-8369-04cad51f7082"
      },
      "outputs": [],
      "source": [
        "wolof_data.path = \"data/\"+wolof_data.path"
      ]
    },
    {
      "cell_type": "code",
      "execution_count": null,
      "id": "3338f67c-5a85-4638-94ca-d4a73d6f37b9",
      "metadata": {
        "id": "3338f67c-5a85-4638-94ca-d4a73d6f37b9",
        "outputId": "e53ad394-b5aa-4086-cf6f-1fd380cab7bf",
        "colab": {
          "base_uri": "https://localhost:8080/",
          "height": 206
        }
      },
      "outputs": [
        {
          "output_type": "execute_result",
          "data": {
            "text/plain": [
              "                                                   path  label\n",
              "1495  data/7c7d3dc1-f50c-4b56-a9fa-09bce238a5ea/269d...      0\n",
              "1500  data/7c7d3dc1-f50c-4b56-a9fa-09bce238a5ea/5f0d...      1\n",
              "1504  data/7c7d3dc1-f50c-4b56-a9fa-09bce238a5ea/73b5...      2\n",
              "1505  data/7c7d3dc1-f50c-4b56-a9fa-09bce238a5ea/3b0b...      3\n",
              "1543  data/99e581cc-45db-415b-8c47-5c8445027e48/f6ee...      4"
            ],
            "text/html": [
              "\n",
              "  <div id=\"df-841a7d6a-c98f-44d9-954d-c15387c686aa\">\n",
              "    <div class=\"colab-df-container\">\n",
              "      <div>\n",
              "<style scoped>\n",
              "    .dataframe tbody tr th:only-of-type {\n",
              "        vertical-align: middle;\n",
              "    }\n",
              "\n",
              "    .dataframe tbody tr th {\n",
              "        vertical-align: top;\n",
              "    }\n",
              "\n",
              "    .dataframe thead th {\n",
              "        text-align: right;\n",
              "    }\n",
              "</style>\n",
              "<table border=\"1\" class=\"dataframe\">\n",
              "  <thead>\n",
              "    <tr style=\"text-align: right;\">\n",
              "      <th></th>\n",
              "      <th>path</th>\n",
              "      <th>label</th>\n",
              "    </tr>\n",
              "  </thead>\n",
              "  <tbody>\n",
              "    <tr>\n",
              "      <th>1495</th>\n",
              "      <td>data/7c7d3dc1-f50c-4b56-a9fa-09bce238a5ea/269d...</td>\n",
              "      <td>0</td>\n",
              "    </tr>\n",
              "    <tr>\n",
              "      <th>1500</th>\n",
              "      <td>data/7c7d3dc1-f50c-4b56-a9fa-09bce238a5ea/5f0d...</td>\n",
              "      <td>1</td>\n",
              "    </tr>\n",
              "    <tr>\n",
              "      <th>1504</th>\n",
              "      <td>data/7c7d3dc1-f50c-4b56-a9fa-09bce238a5ea/73b5...</td>\n",
              "      <td>2</td>\n",
              "    </tr>\n",
              "    <tr>\n",
              "      <th>1505</th>\n",
              "      <td>data/7c7d3dc1-f50c-4b56-a9fa-09bce238a5ea/3b0b...</td>\n",
              "      <td>3</td>\n",
              "    </tr>\n",
              "    <tr>\n",
              "      <th>1543</th>\n",
              "      <td>data/99e581cc-45db-415b-8c47-5c8445027e48/f6ee...</td>\n",
              "      <td>4</td>\n",
              "    </tr>\n",
              "  </tbody>\n",
              "</table>\n",
              "</div>\n",
              "      <button class=\"colab-df-convert\" onclick=\"convertToInteractive('df-841a7d6a-c98f-44d9-954d-c15387c686aa')\"\n",
              "              title=\"Convert this dataframe to an interactive table.\"\n",
              "              style=\"display:none;\">\n",
              "        \n",
              "  <svg xmlns=\"http://www.w3.org/2000/svg\" height=\"24px\"viewBox=\"0 0 24 24\"\n",
              "       width=\"24px\">\n",
              "    <path d=\"M0 0h24v24H0V0z\" fill=\"none\"/>\n",
              "    <path d=\"M18.56 5.44l.94 2.06.94-2.06 2.06-.94-2.06-.94-.94-2.06-.94 2.06-2.06.94zm-11 1L8.5 8.5l.94-2.06 2.06-.94-2.06-.94L8.5 2.5l-.94 2.06-2.06.94zm10 10l.94 2.06.94-2.06 2.06-.94-2.06-.94-.94-2.06-.94 2.06-2.06.94z\"/><path d=\"M17.41 7.96l-1.37-1.37c-.4-.4-.92-.59-1.43-.59-.52 0-1.04.2-1.43.59L10.3 9.45l-7.72 7.72c-.78.78-.78 2.05 0 2.83L4 21.41c.39.39.9.59 1.41.59.51 0 1.02-.2 1.41-.59l7.78-7.78 2.81-2.81c.8-.78.8-2.07 0-2.86zM5.41 20L4 18.59l7.72-7.72 1.47 1.35L5.41 20z\"/>\n",
              "  </svg>\n",
              "      </button>\n",
              "      \n",
              "  <style>\n",
              "    .colab-df-container {\n",
              "      display:flex;\n",
              "      flex-wrap:wrap;\n",
              "      gap: 12px;\n",
              "    }\n",
              "\n",
              "    .colab-df-convert {\n",
              "      background-color: #E8F0FE;\n",
              "      border: none;\n",
              "      border-radius: 50%;\n",
              "      cursor: pointer;\n",
              "      display: none;\n",
              "      fill: #1967D2;\n",
              "      height: 32px;\n",
              "      padding: 0 0 0 0;\n",
              "      width: 32px;\n",
              "    }\n",
              "\n",
              "    .colab-df-convert:hover {\n",
              "      background-color: #E2EBFA;\n",
              "      box-shadow: 0px 1px 2px rgba(60, 64, 67, 0.3), 0px 1px 3px 1px rgba(60, 64, 67, 0.15);\n",
              "      fill: #174EA6;\n",
              "    }\n",
              "\n",
              "    [theme=dark] .colab-df-convert {\n",
              "      background-color: #3B4455;\n",
              "      fill: #D2E3FC;\n",
              "    }\n",
              "\n",
              "    [theme=dark] .colab-df-convert:hover {\n",
              "      background-color: #434B5C;\n",
              "      box-shadow: 0px 1px 3px 1px rgba(0, 0, 0, 0.15);\n",
              "      filter: drop-shadow(0px 1px 2px rgba(0, 0, 0, 0.3));\n",
              "      fill: #FFFFFF;\n",
              "    }\n",
              "  </style>\n",
              "\n",
              "      <script>\n",
              "        const buttonEl =\n",
              "          document.querySelector('#df-841a7d6a-c98f-44d9-954d-c15387c686aa button.colab-df-convert');\n",
              "        buttonEl.style.display =\n",
              "          google.colab.kernel.accessAllowed ? 'block' : 'none';\n",
              "\n",
              "        async function convertToInteractive(key) {\n",
              "          const element = document.querySelector('#df-841a7d6a-c98f-44d9-954d-c15387c686aa');\n",
              "          const dataTable =\n",
              "            await google.colab.kernel.invokeFunction('convertToInteractive',\n",
              "                                                     [key], {});\n",
              "          if (!dataTable) return;\n",
              "\n",
              "          const docLinkHtml = 'Like what you see? Visit the ' +\n",
              "            '<a target=\"_blank\" href=https://colab.research.google.com/notebooks/data_table.ipynb>data table notebook</a>'\n",
              "            + ' to learn more about interactive tables.';\n",
              "          element.innerHTML = '';\n",
              "          dataTable['output_type'] = 'display_data';\n",
              "          await google.colab.output.renderOutput(dataTable, element);\n",
              "          const docLink = document.createElement('div');\n",
              "          docLink.innerHTML = docLinkHtml;\n",
              "          element.appendChild(docLink);\n",
              "        }\n",
              "      </script>\n",
              "    </div>\n",
              "  </div>\n",
              "  "
            ]
          },
          "metadata": {},
          "execution_count": 89
        }
      ],
      "source": [
        "wolof_data.head()"
      ]
    },
    {
      "cell_type": "code",
      "execution_count": null,
      "id": "d2b5d563-83a2-4b9a-84e4-db456c630c47",
      "metadata": {
        "id": "d2b5d563-83a2-4b9a-84e4-db456c630c47"
      },
      "outputs": [],
      "source": [
        "train_df,val_df = train_test_split(wolof_data, test_size=0.1, stratify=wolof_data[\"label\"], shuffle=True, random_state=42)"
      ]
    },
    {
      "cell_type": "code",
      "execution_count": null,
      "id": "02dfaeae-873a-4551-bf10-3c235320b05a",
      "metadata": {
        "id": "02dfaeae-873a-4551-bf10-3c235320b05a",
        "outputId": "a5d5fcb5-258e-466e-bf09-933dd5028eac",
        "colab": {
          "base_uri": "https://localhost:8080/"
        }
      },
      "outputs": [
        {
          "output_type": "execute_result",
          "data": {
            "text/plain": [
              "((3423, 2), (381, 2))"
            ]
          },
          "metadata": {},
          "execution_count": 91
        }
      ],
      "source": [
        "train_df.shape, val_df.shape"
      ]
    },
    {
      "cell_type": "markdown",
      "id": "cb213707-6a75-44b1-8894-e33441b3d0e7",
      "metadata": {
        "id": "cb213707-6a75-44b1-8894-e33441b3d0e7"
      },
      "source": [
        "### Data generator"
      ]
    },
    {
      "cell_type": "code",
      "execution_count": null,
      "id": "132c942b-e58d-403e-8139-3152a3dbad30",
      "metadata": {
        "id": "132c942b-e58d-403e-8139-3152a3dbad30"
      },
      "outputs": [],
      "source": [
        "class DataGenerator(tf.keras.utils.Sequence):\n",
        "    'Generates data for Keras'\n",
        "    def __init__(self, df, batch_size,max_duration, sample_rate = 16_000):\n",
        "        self.df = df\n",
        "        self.batch_size = batch_size\n",
        "        self.sample_rate = sample_rate\n",
        "        self.max_samples = max_duration * sample_rate\n",
        "        \n",
        "\n",
        "    def __len__(self):\n",
        "        'Denotes the number of batches per epoch'\n",
        "        return int(np.floor(len(self.df) / self.batch_size))\n",
        "\n",
        "    def __getitem__(self, index):\n",
        "        batch_df = self.df.iloc[index*self.batch_size : (index+1)*self.batch_size]\n",
        "\n",
        "        # Find list of IDs\n",
        "\n",
        "        # Generate data\n",
        "        X, y = self.__data_generation(batch_df)\n",
        "\n",
        "        return X, y\n",
        "\n",
        "    def on_epoch_end(self):\n",
        "        self.indexes = np.arange(len(self.df))\n",
        "        self.df = self.df.sample(frac=1.0)\n",
        "\n",
        "    def __data_generation(self, batch_df):\n",
        "        X = np.empty((self.batch_size, self.max_samples))\n",
        "        Y = np.empty((self.batch_size), dtype=int)\n",
        "        # Generate data\n",
        "        i = 0\n",
        "        for _, row in batch_df.iterrows():\n",
        "            path, label = row.path, row.label\n",
        "            try:\n",
        "                audio = AudioSegment.from_mp3(path)\n",
        "                audio = audio.set_frame_rate(self.sample_rate)\n",
        "                audio = audio.get_array_of_samples()\n",
        "                audio = 2.*(audio - np.min(audio))/np.ptp(audio)-1\n",
        "                if audio.shape[0] >  self.max_samples:\n",
        "                    waveform = audio[0: self.max_samples]\n",
        "                else:\n",
        "                    waveform = np.concatenate((audio, np.zeros((self.max_samples - audio.shape[0],))))\n",
        "                X[i, ] = waveform\n",
        "                Y[i] = label\n",
        "                i += 1\n",
        "            except:\n",
        "                i += 1\n",
        "        return X.squeeze(), Y"
      ]
    },
    {
      "cell_type": "code",
      "execution_count": null,
      "id": "e5131c37-381d-4180-aaba-ed467add4c06",
      "metadata": {
        "id": "e5131c37-381d-4180-aaba-ed467add4c06"
      },
      "outputs": [],
      "source": [
        "train_gen = DataGenerator(train_df, 32, max_duration=4)\n",
        "valid_gen = DataGenerator(val_df, 32, max_duration=4)"
      ]
    },
    {
      "cell_type": "code",
      "execution_count": null,
      "id": "aef889bc-6411-463b-b8b4-7a821d431933",
      "metadata": {
        "id": "aef889bc-6411-463b-b8b4-7a821d431933",
        "outputId": "9d7920ee-3caf-4258-8bdb-900257d53487"
      },
      "outputs": [
        {
          "name": "stdout",
          "output_type": "stream",
          "text": [
            "(32, 64000) (32,)\n"
          ]
        }
      ],
      "source": [
        "for x in train_gen:\n",
        "    # print(x[0].squeeze().shape)\n",
        "    print(x[0].shape, x[1].shape)\n",
        "    break"
      ]
    },
    {
      "cell_type": "raw",
      "id": "5bcebda2-fabb-4432-9a59-f0dfd961d8c9",
      "metadata": {
        "jupyter": {
          "outputs_hidden": true
        },
        "tags": [],
        "id": "5bcebda2-fabb-4432-9a59-f0dfd961d8c9"
      },
      "source": [
        "rows = 3\n",
        "cols = 3\n",
        "import numpy as np\n",
        "n = rows * cols\n",
        "fig, axes = plt.subplots(rows, cols, figsize=(10, 12))\n",
        "\n",
        "for i, (audio, label) in enumerate(train_ds.take(n)):\n",
        "    r = i // cols\n",
        "    c = i % cols\n",
        "    ax = axes[r][c]\n",
        "    ax.plot(audio.numpy())\n",
        "    ax.set_yticks(np.arange(-1.2, 1.2, 0.2))\n",
        "    label = index_to_command[label.numpy()]\n",
        "    ax.set_title(label)\n",
        "\n",
        "plt.show()"
      ]
    },
    {
      "cell_type": "markdown",
      "source": [
        "### Model creation and training"
      ],
      "metadata": {
        "id": "dE6OJXCBu62T"
      },
      "id": "dE6OJXCBu62T"
    },
    {
      "cell_type": "code",
      "execution_count": null,
      "id": "708c812e-f2e9-4fb6-b356-f3def489a368",
      "metadata": {
        "tags": [],
        "id": "708c812e-f2e9-4fb6-b356-f3def489a368"
      },
      "outputs": [],
      "source": [
        "import tensorflow_hub as hub\n",
        "\n",
        "trill_layer = hub.KerasLayer(\n",
        "    # handle='https://tfhub.dev/google/nonsemantic-speech-benchmark/trill-distilled/3',\n",
        "    handle='https://tfhub.dev/google/nonsemantic-speech-benchmark/trill/3',\n",
        "    trainable=True,\n",
        "    # arguments={'sample_rate': tf.constant(16000, tf.int32)},\n",
        "    arguments={'sample_rate': 16000},\n",
        "    output_key='embedding',\n",
        "    output_shape=[None, 2048],\n",
        "    name='trill_layer'\n",
        ")"
      ]
    },
    {
      "cell_type": "code",
      "execution_count": null,
      "id": "19064e50-9fca-42fb-b5cf-7f03ea504e43",
      "metadata": {
        "id": "19064e50-9fca-42fb-b5cf-7f03ea504e43",
        "outputId": "84573e59-1573-4d4d-b4f6-18d1cb3460cf"
      },
      "outputs": [
        {
          "data": {
            "text/plain": [
              "('2.6.2', '1.19.5')"
            ]
          },
          "execution_count": 74,
          "metadata": {},
          "output_type": "execute_result"
        }
      ],
      "source": [
        "tf.__version__, np.__version__"
      ]
    },
    {
      "cell_type": "code",
      "execution_count": null,
      "id": "c0c3e9e4-cdfd-40f8-8340-8e5af6e142be",
      "metadata": {
        "id": "c0c3e9e4-cdfd-40f8-8340-8e5af6e142be"
      },
      "outputs": [],
      "source": [
        "model = tf.keras.models.Sequential()\n",
        "model.add(tf.keras.layers.Input(shape=(None,)))\n",
        "model.add(trill_layer)\n",
        "model.add(tf.keras.layers.GlobalAveragePooling1D())\n",
        "model.add(tf.keras.layers.Dense(len(index_to_command), \n",
        "            kernel_regularizer=tf.keras.regularizers.l2(0.01)))"
      ]
    },
    {
      "cell_type": "code",
      "execution_count": null,
      "id": "861f0c47-74fb-4fe6-9e66-e6f1f12bb330",
      "metadata": {
        "tags": [],
        "id": "861f0c47-74fb-4fe6-9e66-e6f1f12bb330",
        "outputId": "77132c12-ef75-4dba-88b4-e8d10cb56cb0"
      },
      "outputs": [
        {
          "name": "stdout",
          "output_type": "stream",
          "text": [
            "Model: \"sequential_4\"\n",
            "_________________________________________________________________\n",
            "Layer (type)                 Output Shape              Param #   \n",
            "=================================================================\n",
            "trill_layer (KerasLayer)     (None, None, 512)         24524288  \n",
            "_________________________________________________________________\n",
            "global_average_pooling1d_4 ( (None, 512)               0         \n",
            "_________________________________________________________________\n",
            "dense_4 (Dense)              (None, 10)                5130      \n",
            "=================================================================\n",
            "Total params: 24,529,418\n",
            "Trainable params: 24,529,418\n",
            "Non-trainable params: 0\n",
            "_________________________________________________________________\n"
          ]
        }
      ],
      "source": [
        "model.summary()"
      ]
    },
    {
      "cell_type": "code",
      "execution_count": null,
      "id": "92479a41-91bd-41be-868e-3934c3c33466",
      "metadata": {
        "id": "92479a41-91bd-41be-868e-3934c3c33466"
      },
      "outputs": [],
      "source": [
        "model.layers[0].trainable = True"
      ]
    },
    {
      "cell_type": "code",
      "execution_count": null,
      "id": "d118ab0e-8a41-4f66-895d-cf759c1bb458",
      "metadata": {
        "tags": [],
        "id": "d118ab0e-8a41-4f66-895d-cf759c1bb458",
        "outputId": "40426acf-2dc9-4c10-b88c-9e1a522be0d4"
      },
      "outputs": [
        {
          "name": "stdout",
          "output_type": "stream",
          "text": [
            "Model: \"sequential_4\"\n",
            "_________________________________________________________________\n",
            "Layer (type)                 Output Shape              Param #   \n",
            "=================================================================\n",
            "trill_layer (KerasLayer)     (None, None, 512)         24524288  \n",
            "_________________________________________________________________\n",
            "global_average_pooling1d_4 ( (None, 512)               0         \n",
            "_________________________________________________________________\n",
            "dense_4 (Dense)              (None, 10)                5130      \n",
            "=================================================================\n",
            "Total params: 24,529,418\n",
            "Trainable params: 24,529,418\n",
            "Non-trainable params: 0\n",
            "_________________________________________________________________\n"
          ]
        }
      ],
      "source": [
        "model.summary()"
      ]
    },
    {
      "cell_type": "code",
      "execution_count": null,
      "id": "74684f9d-afe5-47ac-bb99-59325122e014",
      "metadata": {
        "id": "74684f9d-afe5-47ac-bb99-59325122e014"
      },
      "outputs": [],
      "source": [
        "model.compile(\n",
        "    optimizer=tf.keras.optimizers.Adam(0.00001),\n",
        "    loss=tf.keras.losses.SparseCategoricalCrossentropy(from_logits=True),\n",
        "    metrics=['accuracy'],\n",
        ")"
      ]
    },
    {
      "cell_type": "code",
      "execution_count": null,
      "id": "845dcd88-61c2-487e-bd61-86c226196b7a",
      "metadata": {
        "id": "845dcd88-61c2-487e-bd61-86c226196b7a"
      },
      "outputs": [],
      "source": [
        "# define the checkpoint\n",
        "filepath = \"models/second_freezed.h5\"\n",
        "checkpoint = tf.keras.callbacks.ModelCheckpoint(filepath, monitor='val_loss', verbose=1, save_best_only=True, mode='min')\n",
        "es_callback = tf.keras.callbacks.EarlyStopping(monitor='val_loss', patience=3)\n",
        "callbacks_list = [checkpoint, es_callback]"
      ]
    },
    {
      "cell_type": "code",
      "execution_count": null,
      "id": "2adcae53-6a48-41b5-aa33-ea6801e4c276",
      "metadata": {
        "id": "2adcae53-6a48-41b5-aa33-ea6801e4c276",
        "outputId": "ec957bc5-ba50-40c5-a416-0ae8fd4c69d8"
      },
      "outputs": [
        {
          "name": "stdout",
          "output_type": "stream",
          "text": [
            "Epoch 1/100\n",
            "106/106 [==============================] - 785s 7s/step - loss: 2.4872 - accuracy: 0.1353 - val_loss: 2.4616 - val_accuracy: 0.1761\n",
            "\n",
            "Epoch 00001: val_loss improved from inf to 2.46162, saving model to models/second_freezed.h5\n",
            "Epoch 2/100\n",
            "106/106 [==============================] - 796s 8s/step - loss: 2.4285 - accuracy: 0.2412 - val_loss: 2.3984 - val_accuracy: 0.2756\n",
            "\n",
            "Epoch 00002: val_loss improved from 2.46162 to 2.39838, saving model to models/second_freezed.h5\n",
            "Epoch 3/100\n",
            "106/106 [==============================] - 827s 8s/step - loss: 2.3599 - accuracy: 0.3617 - val_loss: 2.3322 - val_accuracy: 0.3807\n",
            "\n",
            "Epoch 00003: val_loss improved from 2.39838 to 2.33216, saving model to models/second_freezed.h5\n",
            "Epoch 4/100\n",
            "106/106 [==============================] - 832s 8s/step - loss: 2.3028 - accuracy: 0.4543 - val_loss: 2.2875 - val_accuracy: 0.4233\n",
            "\n",
            "Epoch 00004: val_loss improved from 2.33216 to 2.28751, saving model to models/second_freezed.h5\n",
            "Epoch 5/100\n",
            "106/106 [==============================] - 824s 8s/step - loss: 2.2566 - accuracy: 0.5410 - val_loss: 2.2429 - val_accuracy: 0.5597\n",
            "\n",
            "Epoch 00005: val_loss improved from 2.28751 to 2.24286, saving model to models/second_freezed.h5\n",
            "Epoch 6/100\n",
            "106/106 [==============================] - 822s 8s/step - loss: 2.2174 - accuracy: 0.5964 - val_loss: 2.2107 - val_accuracy: 0.5909\n",
            "\n",
            "Epoch 00006: val_loss improved from 2.24286 to 2.21066, saving model to models/second_freezed.h5\n",
            "Epoch 7/100\n",
            "106/106 [==============================] - 830s 8s/step - loss: 2.1855 - accuracy: 0.6338 - val_loss: 2.1909 - val_accuracy: 0.6335\n",
            "\n",
            "Epoch 00007: val_loss improved from 2.21066 to 2.19093, saving model to models/second_freezed.h5\n",
            "Epoch 8/100\n",
            "106/106 [==============================] - 844s 8s/step - loss: 2.1588 - accuracy: 0.6748 - val_loss: 2.1734 - val_accuracy: 0.6392\n",
            "\n",
            "Epoch 00008: val_loss improved from 2.19093 to 2.17341, saving model to models/second_freezed.h5\n",
            "Epoch 9/100\n",
            "106/106 [==============================] - 847s 8s/step - loss: 2.1365 - accuracy: 0.6990 - val_loss: 2.1594 - val_accuracy: 0.6477\n",
            "\n",
            "Epoch 00009: val_loss improved from 2.17341 to 2.15937, saving model to models/second_freezed.h5\n",
            "Epoch 10/100\n",
            "106/106 [==============================] - 859s 8s/step - loss: 2.1137 - accuracy: 0.7358 - val_loss: 2.1379 - val_accuracy: 0.6733\n",
            "\n",
            "Epoch 00010: val_loss improved from 2.15937 to 2.13791, saving model to models/second_freezed.h5\n",
            "Epoch 11/100\n",
            "106/106 [==============================] - 869s 8s/step - loss: 2.0967 - accuracy: 0.7588 - val_loss: 2.1204 - val_accuracy: 0.6989\n",
            "\n",
            "Epoch 00011: val_loss improved from 2.13791 to 2.12036, saving model to models/second_freezed.h5\n",
            "Epoch 12/100\n",
            "106/106 [==============================] - 871s 8s/step - loss: 2.0792 - accuracy: 0.7662 - val_loss: 2.1175 - val_accuracy: 0.6790\n",
            "\n",
            "Epoch 00012: val_loss improved from 2.12036 to 2.11747, saving model to models/second_freezed.h5\n",
            "Epoch 13/100\n",
            "106/106 [==============================] - 874s 8s/step - loss: 2.0654 - accuracy: 0.7874 - val_loss: 2.0960 - val_accuracy: 0.7386\n",
            "\n",
            "Epoch 00013: val_loss improved from 2.11747 to 2.09603, saving model to models/second_freezed.h5\n",
            "Epoch 14/100\n",
            "106/106 [==============================] - 870s 8s/step - loss: 2.0494 - accuracy: 0.7986 - val_loss: 2.0911 - val_accuracy: 0.7159\n",
            "\n",
            "Epoch 00014: val_loss improved from 2.09603 to 2.09106, saving model to models/second_freezed.h5\n",
            "Epoch 15/100\n",
            "106/106 [==============================] - 869s 8s/step - loss: 2.0340 - accuracy: 0.8231 - val_loss: 2.0887 - val_accuracy: 0.7443\n",
            "\n",
            "Epoch 00015: val_loss improved from 2.09106 to 2.08865, saving model to models/second_freezed.h5\n",
            "Epoch 16/100\n",
            "106/106 [==============================] - 882s 8s/step - loss: 2.0191 - accuracy: 0.8379 - val_loss: 2.0781 - val_accuracy: 0.7415\n",
            "\n",
            "Epoch 00016: val_loss improved from 2.08865 to 2.07813, saving model to models/second_freezed.h5\n",
            "Epoch 17/100\n",
            "106/106 [==============================] - 878s 8s/step - loss: 2.0075 - accuracy: 0.8387 - val_loss: 2.0702 - val_accuracy: 0.7812\n",
            "\n",
            "Epoch 00017: val_loss improved from 2.07813 to 2.07025, saving model to models/second_freezed.h5\n",
            "Epoch 18/100\n",
            "106/106 [==============================] - 874s 8s/step - loss: 1.9980 - accuracy: 0.8479 - val_loss: 2.0605 - val_accuracy: 0.7642\n",
            "\n",
            "Epoch 00018: val_loss improved from 2.07025 to 2.06054, saving model to models/second_freezed.h5\n",
            "Epoch 19/100\n",
            "106/106 [==============================] - 902s 9s/step - loss: 1.9806 - accuracy: 0.8532 - val_loss: 2.0672 - val_accuracy: 0.7500\n",
            "\n",
            "Epoch 00019: val_loss did not improve from 2.06054\n",
            "Epoch 20/100\n",
            "106/106 [==============================] - 947s 9s/step - loss: 1.9698 - accuracy: 0.8691 - val_loss: 2.0517 - val_accuracy: 0.7898\n",
            "\n",
            "Epoch 00020: val_loss improved from 2.06054 to 2.05171, saving model to models/second_freezed.h5\n",
            "Epoch 21/100\n",
            "106/106 [==============================] - 924s 9s/step - loss: 1.9553 - accuracy: 0.8782 - val_loss: 2.0520 - val_accuracy: 0.7443\n",
            "\n",
            "Epoch 00021: val_loss did not improve from 2.05171\n",
            "Epoch 22/100\n",
            "106/106 [==============================] - 931s 9s/step - loss: 1.9474 - accuracy: 0.8812 - val_loss: 2.0487 - val_accuracy: 0.7642\n",
            "\n",
            "Epoch 00022: val_loss improved from 2.05171 to 2.04872, saving model to models/second_freezed.h5\n",
            "Epoch 23/100\n",
            "106/106 [==============================] - 916s 9s/step - loss: 1.9322 - accuracy: 0.8927 - val_loss: 2.0356 - val_accuracy: 0.7727\n",
            "\n",
            "Epoch 00023: val_loss improved from 2.04872 to 2.03562, saving model to models/second_freezed.h5\n",
            "Epoch 24/100\n",
            "106/106 [==============================] - 961s 9s/step - loss: 1.9190 - accuracy: 0.9036 - val_loss: 2.0465 - val_accuracy: 0.7415\n",
            "\n",
            "Epoch 00024: val_loss did not improve from 2.03562\n",
            "Epoch 25/100\n",
            "106/106 [==============================] - 929s 9s/step - loss: 1.9062 - accuracy: 0.9110 - val_loss: 2.0301 - val_accuracy: 0.7812\n",
            "\n",
            "Epoch 00025: val_loss improved from 2.03562 to 2.03014, saving model to models/second_freezed.h5\n",
            "Epoch 26/100\n",
            "106/106 [==============================] - 928s 9s/step - loss: 1.8960 - accuracy: 0.9021 - val_loss: 2.0220 - val_accuracy: 0.8040\n",
            "\n",
            "Epoch 00026: val_loss improved from 2.03014 to 2.02196, saving model to models/second_freezed.h5\n",
            "Epoch 27/100\n",
            "106/106 [==============================] - 930s 9s/step - loss: 1.8788 - accuracy: 0.9248 - val_loss: 2.0286 - val_accuracy: 0.8125\n",
            "\n",
            "Epoch 00027: val_loss did not improve from 2.02196\n",
            "Epoch 28/100\n",
            "106/106 [==============================] - 925s 9s/step - loss: 1.8656 - accuracy: 0.9254 - val_loss: 2.0365 - val_accuracy: 0.8011\n",
            "\n",
            "Epoch 00028: val_loss did not improve from 2.02196\n",
            "Epoch 29/100\n",
            "106/106 [==============================] - 911s 9s/step - loss: 1.8593 - accuracy: 0.9213 - val_loss: 2.0399 - val_accuracy: 0.7614\n",
            "\n",
            "Epoch 00029: val_loss did not improve from 2.02196\n"
          ]
        }
      ],
      "source": [
        "EPOCHS = 100\n",
        "history = model.fit(\n",
        "    train_gen,\n",
        "    validation_data=valid_gen,\n",
        "    epochs=EPOCHS,\n",
        "    callbacks=callbacks_list\n",
        "  \n",
        ")"
      ]
    },
    {
      "cell_type": "markdown",
      "source": [
        "### Model inference"
      ],
      "metadata": {
        "id": "EFAs9H_Zuxxm"
      },
      "id": "EFAs9H_Zuxxm"
    },
    {
      "cell_type": "code",
      "source": [
        "model = tf.keras.models.load_model(\"/gdrive/MyDrive/model_devfest2022.h5\",custom_objects={'KerasLayer':hub.KerasLayer})"
      ],
      "metadata": {
        "id": "WAt0WeGhrXM_"
      },
      "id": "WAt0WeGhrXM_",
      "execution_count": null,
      "outputs": []
    },
    {
      "cell_type": "code",
      "source": [
        "# all imports\n",
        "from IPython.display import Javascript\n",
        "from google.colab import output\n",
        "from base64 import b64decode\n",
        "from io import BytesIO\n",
        "!pip -q install pydub\n",
        "from pydub import AudioSegment\n",
        "\n",
        "RECORD = \"\"\"\n",
        "const sleep  = time => new Promise(resolve => setTimeout(resolve, time))\n",
        "const b2text = blob => new Promise(resolve => {\n",
        "  const reader = new FileReader()\n",
        "  reader.onloadend = e => resolve(e.srcElement.result)\n",
        "  reader.readAsDataURL(blob)\n",
        "})\n",
        "var record = time => new Promise(async resolve => {\n",
        "  stream = await navigator.mediaDevices.getUserMedia({ audio: true })\n",
        "  recorder = new MediaRecorder(stream)\n",
        "  chunks = []\n",
        "  recorder.ondataavailable = e => chunks.push(e.data)\n",
        "  recorder.start()\n",
        "  await sleep(time)\n",
        "  recorder.onstop = async ()=>{\n",
        "    blob = new Blob(chunks)\n",
        "    text = await b2text(blob)\n",
        "    resolve(text)\n",
        "  }\n",
        "  recorder.stop()\n",
        "})\n",
        "\"\"\"\n",
        "\n",
        "def record(sec=2):\n",
        "  display(Javascript(RECORD))\n",
        "  s = output.eval_js('record(%d)' % (sec*1000))\n",
        "  b = b64decode(s.split(',')[1])\n",
        "  audio = AudioSegment.from_file(BytesIO(b))\n",
        "  return audio"
      ],
      "metadata": {
        "id": "Buiq8fnGsX1K"
      },
      "id": "Buiq8fnGsX1K",
      "execution_count": null,
      "outputs": []
    },
    {
      "cell_type": "code",
      "source": [
        "def inference(audio):\n",
        "    audio = audio.set_frame_rate(16_000)\n",
        "    audio = audio.get_array_of_samples()\n",
        "    audio = 2.*(audio - np.min(audio))/np.ptp(audio)-1\n",
        "    # if audio.shape[0] >  4*16_000:\n",
        "    #     waveform = audio[0: self.max_samples]\n",
        "    # else:\n",
        "    #     waveform = np.concatenate((audio, np.zeros((self.max_samples - audio.shape[0],))))\n",
        "    audio = audio[None, ...]\n",
        "    return index_to_command[np.argmax(model.predict(audio))]"
      ],
      "metadata": {
        "id": "UkfNs44Ns9h2"
      },
      "id": "UkfNs44Ns9h2",
      "execution_count": null,
      "outputs": []
    },
    {
      "cell_type": "code",
      "execution_count": null,
      "id": "982bff66-e52a-4730-aa5f-92163306c854",
      "metadata": {
        "colab": {
          "base_uri": "https://localhost:8080/"
        },
        "id": "982bff66-e52a-4730-aa5f-92163306c854",
        "outputId": "fef4044f-d64b-4e96-94d4-18f22729e005"
      },
      "outputs": [
        {
          "output_type": "execute_result",
          "data": {
            "text/plain": [
              "{0: 'Milyoŋ (1 000 000)',\n",
              " 1: 'Fanweer (30)',\n",
              " 2: 'Doxal (Marche)',\n",
              " 3: 'Ci kanam (Avant)',\n",
              " 4: 'Juroom-ñett (8)',\n",
              " 5: 'Ci suuf (Bas)',\n",
              " 6: 'Juroom-ñeent (9)',\n",
              " 7: 'Ak (Et)',\n",
              " 8: 'Xaj (Chien)',\n",
              " 9: 'Juroom (5)'}"
            ]
          },
          "metadata": {},
          "execution_count": 92
        }
      ],
      "source": [
        "index_to_command"
      ]
    },
    {
      "cell_type": "code",
      "source": [
        "audio=record(2)\n",
        "audio"
      ],
      "metadata": {
        "colab": {
          "base_uri": "https://localhost:8080/",
          "height": 76
        },
        "id": "X6tScGcksvjO",
        "outputId": "b7e9a9a6-6f18-4452-a11e-af7d370d1960"
      },
      "id": "X6tScGcksvjO",
      "execution_count": null,
      "outputs": [
        {
          "output_type": "display_data",
          "data": {
            "text/plain": [
              "<IPython.core.display.Javascript object>"
            ],
            "application/javascript": [
              "\n",
              "const sleep  = time => new Promise(resolve => setTimeout(resolve, time))\n",
              "const b2text = blob => new Promise(resolve => {\n",
              "  const reader = new FileReader()\n",
              "  reader.onloadend = e => resolve(e.srcElement.result)\n",
              "  reader.readAsDataURL(blob)\n",
              "})\n",
              "var record = time => new Promise(async resolve => {\n",
              "  stream = await navigator.mediaDevices.getUserMedia({ audio: true })\n",
              "  recorder = new MediaRecorder(stream)\n",
              "  chunks = []\n",
              "  recorder.ondataavailable = e => chunks.push(e.data)\n",
              "  recorder.start()\n",
              "  await sleep(time)\n",
              "  recorder.onstop = async ()=>{\n",
              "    blob = new Blob(chunks)\n",
              "    text = await b2text(blob)\n",
              "    resolve(text)\n",
              "  }\n",
              "  recorder.stop()\n",
              "})\n"
            ]
          },
          "metadata": {}
        },
        {
          "output_type": "execute_result",
          "data": {
            "text/plain": [
              "<pydub.audio_segment.AudioSegment at 0x7f8b3d2482e0>"
            ],
            "text/html": [
              "\n",
              "                    <audio controls>\n",
              "                        <source src=\"data:audio/mpeg;base64,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\" type=\"audio/mpeg\"/>\n",
              "                        Your browser does not support the audio element.\n",
              "                    </audio>\n",
              "                  "
            ]
          },
          "metadata": {},
          "execution_count": 35
        }
      ]
    },
    {
      "cell_type": "code",
      "source": [
        "inference(audio)"
      ],
      "metadata": {
        "colab": {
          "base_uri": "https://localhost:8080/",
          "height": 53
        },
        "id": "GjG9p9m3tVrF",
        "outputId": "860a8658-35d9-4da3-ae96-bb8ba63efd5f"
      },
      "id": "GjG9p9m3tVrF",
      "execution_count": null,
      "outputs": [
        {
          "output_type": "stream",
          "name": "stdout",
          "text": [
            "1/1 [==============================] - 0s 398ms/step\n"
          ]
        },
        {
          "output_type": "execute_result",
          "data": {
            "text/plain": [
              "'Ci kanam (Avant)'"
            ],
            "application/vnd.google.colaboratory.intrinsic+json": {
              "type": "string"
            }
          },
          "metadata": {},
          "execution_count": 36
        }
      ]
    },
    {
      "cell_type": "code",
      "source": [],
      "metadata": {
        "id": "Yjv_SAKJtbt8"
      },
      "id": "Yjv_SAKJtbt8",
      "execution_count": null,
      "outputs": []
    }
  ],
  "metadata": {
    "kernelspec": {
      "display_name": "Python 3 (ipykernel)",
      "language": "python",
      "name": "python3"
    },
    "language_info": {
      "codemirror_mode": {
        "name": "ipython",
        "version": 3
      },
      "file_extension": ".py",
      "mimetype": "text/x-python",
      "name": "python",
      "nbconvert_exporter": "python",
      "pygments_lexer": "ipython3",
      "version": "3.8.15"
    },
    "colab": {
      "provenance": []
    }
  },
  "nbformat": 4,
  "nbformat_minor": 5
}