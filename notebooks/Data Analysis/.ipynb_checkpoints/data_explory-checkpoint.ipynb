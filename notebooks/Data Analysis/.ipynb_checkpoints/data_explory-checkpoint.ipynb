{
 "cells": [
  {
   "cell_type": "code",
   "execution_count": 1,
   "metadata": {},
   "outputs": [],
   "source": [
    "import pandas as pd \n",
    "import numpy as np\n",
    "import seaborn as sns\n",
    "from pylab import rcParams\n",
    "from IPython.display import Audio\n",
    "\n",
    "\n",
    "rcParams['figure.figsize'] = 14, 8"
   ]
  },
  {
   "cell_type": "code",
   "execution_count": 2,
   "metadata": {},
   "outputs": [],
   "source": [
    "#FILE_PATH ='/Users/aziiz/Documents/Keyword_spotting/data_17042021/clips.xlsx'\n",
    "#Added by: @Derguene\n",
    "ROOT = '../../'\n",
    "FILE_PATH = ROOT+'data/raw/clips.xlsx'"
   ]
  },
  {
   "cell_type": "code",
   "execution_count": 3,
   "metadata": {},
   "outputs": [
    {
     "data": {
      "text/html": [
       "<div>\n",
       "<style scoped>\n",
       "    .dataframe tbody tr th:only-of-type {\n",
       "        vertical-align: middle;\n",
       "    }\n",
       "\n",
       "    .dataframe tbody tr th {\n",
       "        vertical-align: top;\n",
       "    }\n",
       "\n",
       "    .dataframe thead th {\n",
       "        text-align: right;\n",
       "    }\n",
       "</style>\n",
       "<table border=\"1\" class=\"dataframe\">\n",
       "  <thead>\n",
       "    <tr style=\"text-align: right;\">\n",
       "      <th></th>\n",
       "      <th>id</th>\n",
       "      <th>client_id</th>\n",
       "      <th>path</th>\n",
       "      <th>sentence</th>\n",
       "      <th>original_sentence_id</th>\n",
       "      <th>created_at</th>\n",
       "      <th>bucket</th>\n",
       "      <th>locale_id</th>\n",
       "    </tr>\n",
       "  </thead>\n",
       "  <tbody>\n",
       "    <tr>\n",
       "      <th>0</th>\n",
       "      <td>1</td>\n",
       "      <td>0e183bb3-5449-48d5-b5b8-9c0b19d55f02</td>\n",
       "      <td>0e183bb3-5449-48d5-b5b8-9c0b19d55f02/e9e9661cb...</td>\n",
       "      <td>O ɓox</td>\n",
       "      <td>e9e9661cbf9855949c094f6de4001dc1b19ed761c2ea5c...</td>\n",
       "      <td>2021-01-15 10:44:05</td>\n",
       "      <td>train</td>\n",
       "      <td>6</td>\n",
       "    </tr>\n",
       "    <tr>\n",
       "      <th>1</th>\n",
       "      <td>2</td>\n",
       "      <td>0e183bb3-5449-48d5-b5b8-9c0b19d55f02</td>\n",
       "      <td>0e183bb3-5449-48d5-b5b8-9c0b19d55f02/02a670ba9...</td>\n",
       "      <td>Ƥetaa-naxak</td>\n",
       "      <td>02a670ba96f24cf45750adc406799c79b3e03f7dc76d97...</td>\n",
       "      <td>2021-01-15 10:44:07</td>\n",
       "      <td>train</td>\n",
       "      <td>6</td>\n",
       "    </tr>\n",
       "    <tr>\n",
       "      <th>2</th>\n",
       "      <td>3</td>\n",
       "      <td>0e183bb3-5449-48d5-b5b8-9c0b19d55f02</td>\n",
       "      <td>0e183bb3-5449-48d5-b5b8-9c0b19d55f02/dda43373b...</td>\n",
       "      <td>A ñaaƴ</td>\n",
       "      <td>dda43373b34abed8f54a694a161240e010488d17ad6bf9...</td>\n",
       "      <td>2021-01-15 10:44:09</td>\n",
       "      <td>train</td>\n",
       "      <td>6</td>\n",
       "    </tr>\n",
       "    <tr>\n",
       "      <th>3</th>\n",
       "      <td>4</td>\n",
       "      <td>0e183bb3-5449-48d5-b5b8-9c0b19d55f02</td>\n",
       "      <td>0e183bb3-5449-48d5-b5b8-9c0b19d55f02/c0cd07156...</td>\n",
       "      <td>Tadik</td>\n",
       "      <td>c0cd0715685c2ce27277b01f4f6a141027bc56ebf3b6f4...</td>\n",
       "      <td>2021-01-15 10:44:11</td>\n",
       "      <td>train</td>\n",
       "      <td>6</td>\n",
       "    </tr>\n",
       "    <tr>\n",
       "      <th>4</th>\n",
       "      <td>5</td>\n",
       "      <td>0e183bb3-5449-48d5-b5b8-9c0b19d55f02</td>\n",
       "      <td>0e183bb3-5449-48d5-b5b8-9c0b19d55f02/9cc6f1ad7...</td>\n",
       "      <td>Xarɓaxay</td>\n",
       "      <td>9cc6f1ad7b4559ccd62a51ca6dde93ff82604eff3f696e...</td>\n",
       "      <td>2021-01-15 10:44:14</td>\n",
       "      <td>train</td>\n",
       "      <td>6</td>\n",
       "    </tr>\n",
       "  </tbody>\n",
       "</table>\n",
       "</div>"
      ],
      "text/plain": [
       "   id                             client_id  \\\n",
       "0   1  0e183bb3-5449-48d5-b5b8-9c0b19d55f02   \n",
       "1   2  0e183bb3-5449-48d5-b5b8-9c0b19d55f02   \n",
       "2   3  0e183bb3-5449-48d5-b5b8-9c0b19d55f02   \n",
       "3   4  0e183bb3-5449-48d5-b5b8-9c0b19d55f02   \n",
       "4   5  0e183bb3-5449-48d5-b5b8-9c0b19d55f02   \n",
       "\n",
       "                                                path     sentence  \\\n",
       "0  0e183bb3-5449-48d5-b5b8-9c0b19d55f02/e9e9661cb...        O ɓox   \n",
       "1  0e183bb3-5449-48d5-b5b8-9c0b19d55f02/02a670ba9...  Ƥetaa-naxak   \n",
       "2  0e183bb3-5449-48d5-b5b8-9c0b19d55f02/dda43373b...       A ñaaƴ   \n",
       "3  0e183bb3-5449-48d5-b5b8-9c0b19d55f02/c0cd07156...        Tadik   \n",
       "4  0e183bb3-5449-48d5-b5b8-9c0b19d55f02/9cc6f1ad7...     Xarɓaxay   \n",
       "\n",
       "                                original_sentence_id          created_at  \\\n",
       "0  e9e9661cbf9855949c094f6de4001dc1b19ed761c2ea5c... 2021-01-15 10:44:05   \n",
       "1  02a670ba96f24cf45750adc406799c79b3e03f7dc76d97... 2021-01-15 10:44:07   \n",
       "2  dda43373b34abed8f54a694a161240e010488d17ad6bf9... 2021-01-15 10:44:09   \n",
       "3  c0cd0715685c2ce27277b01f4f6a141027bc56ebf3b6f4... 2021-01-15 10:44:11   \n",
       "4  9cc6f1ad7b4559ccd62a51ca6dde93ff82604eff3f696e... 2021-01-15 10:44:14   \n",
       "\n",
       "  bucket  locale_id  \n",
       "0  train          6  \n",
       "1  train          6  \n",
       "2  train          6  \n",
       "3  train          6  \n",
       "4  train          6  "
      ]
     },
     "execution_count": 3,
     "metadata": {},
     "output_type": "execute_result"
    }
   ],
   "source": [
    "#Added by: @Aziz\n",
    "data = pd.read_excel(FILE_PATH)\n",
    "data.head()"
   ]
  },
  {
   "cell_type": "code",
   "execution_count": 4,
   "metadata": {},
   "outputs": [
    {
     "data": {
      "text/plain": [
       "array([6, 7, 3, 5, 4, 8])"
      ]
     },
     "execution_count": 4,
     "metadata": {},
     "output_type": "execute_result"
    }
   ],
   "source": [
    "#Added by: @Aziz\n",
    "local_id = data['locale_id'].unique()\n",
    "local_id"
   ]
  },
  {
   "cell_type": "markdown",
   "metadata": {},
   "source": [
    "# Organizing audio files by language\n",
    "We will create a folder for each language and store the corresponding records there"
   ]
  },
  {
   "cell_type": "code",
   "execution_count": 5,
   "metadata": {},
   "outputs": [],
   "source": [
    "#Added by: @Derguene\n",
    "# local_id corresponds to the languages ids, cf data/Readme\n",
    "id2lang = {3: 'Diola',\n",
    "           4: 'Mandingue',\n",
    "           5: 'Poular',\n",
    "           6: 'Sérère',\n",
    "           7: 'Wolof',\n",
    "           8: 'Soninké'}"
   ]
  },
  {
   "cell_type": "code",
   "execution_count": 6,
   "metadata": {},
   "outputs": [
    {
     "name": "stdout",
     "output_type": "stream",
     "text": [
      "6 directories successfully created!\n"
     ]
    }
   ],
   "source": [
    "#Added by: @Derguene\n",
    "# Create a directory for each language\n",
    "import os\n",
    "\n",
    "TARGET_DIR = ROOT+'data/intermediate/'\n",
    "cp = 0\n",
    "for language_dir in id2lang.values():\n",
    "    os.mkdir(TARGET_DIR+language_dir)\n",
    "    cp+=1\n",
    "print(f\"{cp} directories successfully created!\")"
   ]
  },
  {
   "cell_type": "code",
   "execution_count": 7,
   "metadata": {},
   "outputs": [],
   "source": [
    "# You'll need to grant writing to newly created directories\n",
    "#!sudo sudo chmod o+w $TARGET_DIR/*"
   ]
  },
  {
   "cell_type": "code",
   "execution_count": 8,
   "metadata": {},
   "outputs": [
    {
     "name": "stderr",
     "output_type": "stream",
     "text": [
      "100%|███████████████████████████████████████████████████████████████████████████████| 24653/24653 [00:06<00:00, 3779.82it/s]"
     ]
    },
    {
     "name": "stdout",
     "output_type": "stream",
     "text": [
      "- 24385/24653 files successfully copied!\n",
      "- 268 files or directory not found!\n"
     ]
    },
    {
     "name": "stderr",
     "output_type": "stream",
     "text": [
      "\n"
     ]
    }
   ],
   "source": [
    "#Added by: @Derguene\n",
    "# Range audio data by language dir\n",
    "from shutil import copy as copy_file\n",
    "from tqdm import tqdm\n",
    "cp = 0\n",
    "err_msg = []\n",
    "\n",
    "for src, locale_id in tqdm(data[['path', 'locale_id']].values):\n",
    "    filename = '/'+id2lang[locale_id]+'_'+str(cp)\n",
    "    src_path = ROOT+'data/raw/'+src\n",
    "    tgt_path = TARGET_DIR+id2lang[locale_id]+filename\n",
    "\n",
    "    try:\n",
    "        copy_file(src_path, tgt_path)\n",
    "        cp+=1\n",
    "    except IOError as error:\n",
    "        # [Errno 2] No such file or directory\n",
    "        err_msg.append(str(error))\n",
    "    \n",
    "print(f\"- {cp}/{len(data)} files successfully copied!\")\n",
    "print(f\"- {len(err_msg)} files or directory not found!\")"
   ]
  },
  {
   "cell_type": "code",
   "execution_count": 25,
   "metadata": {},
   "outputs": [
    {
     "name": "stdout",
     "output_type": "stream",
     "text": [
      "   24388\n"
     ]
    }
   ],
   "source": [
    "#Added by: @Derguene\n",
    "# Recursively counting files in the source directory\n",
    "# This will include the excel file and the 2 hidden files (don't take them into account)\n",
    "!find $ROOT/data/raw/ -type f | wc -l"
   ]
  },
  {
   "cell_type": "code",
   "execution_count": 21,
   "metadata": {},
   "outputs": [
    {
     "name": "stdout",
     "output_type": "stream",
     "text": [
      "   1 .DS_Store\n",
      "   1 .gitkeep\n",
      "1928 Diola\n",
      "2440 Mandingue\n",
      "4623 Poular\n",
      " 440 Soninké\n",
      "2056 Sérère\n",
      "12898 Wolof\n"
     ]
    }
   ],
   "source": [
    "#Added by: @Derguene\n",
    "# prints the file count per directory for the current directory level\n",
    "!cd $TARGET_DIR && find . -type f | cut -d/ -f2 | sort | uniq -c"
   ]
  },
  {
   "cell_type": "code",
   "execution_count": 26,
   "metadata": {},
   "outputs": [
    {
     "name": "stdout",
     "output_type": "stream",
     "text": [
      "   24387\n"
     ]
    }
   ],
   "source": [
    "#Added by: @Derguene\n",
    "# Recursively counting files in the target directory (total)\n",
    "# This will include the 2 hidden files (don't take them into account)\n",
    "!find $TARGET_DIR -type f | wc -l"
   ]
  },
  {
   "cell_type": "markdown",
   "metadata": {},
   "source": [
    "## Next steps:\n",
    "* Process files/folders referenced by the `clips.xlsx` file and not found in the raw data\n",
    "* Identify keywords by language\n",
    "* Arrange files by keywords within languages"
   ]
  },
  {
   "cell_type": "markdown",
   "metadata": {},
   "source": [
    "# Keywords exploration"
   ]
  },
  {
   "cell_type": "code",
   "execution_count": 50,
   "metadata": {},
   "outputs": [
    {
     "name": "stdout",
     "output_type": "stream",
     "text": [
      "There are 415 unique keywords\n"
     ]
    }
   ],
   "source": [
    "#Added by: @Aziz\n",
    "# Let's get the number of unique keywords\n",
    "#keywords = data['sentence'].unique()\n",
    "#Proposition: @Derguene\n",
    "keywords = data.drop_duplicates(subset='sentence')\n",
    "print(f'There are {len(keywords)} unique keywords')"
   ]
  },
  {
   "cell_type": "code",
   "execution_count": 53,
   "metadata": {},
   "outputs": [
    {
     "data": {
      "text/html": [
       "<div>\n",
       "<style scoped>\n",
       "    .dataframe tbody tr th:only-of-type {\n",
       "        vertical-align: middle;\n",
       "    }\n",
       "\n",
       "    .dataframe tbody tr th {\n",
       "        vertical-align: top;\n",
       "    }\n",
       "\n",
       "    .dataframe thead th {\n",
       "        text-align: right;\n",
       "    }\n",
       "</style>\n",
       "<table border=\"1\" class=\"dataframe\">\n",
       "  <thead>\n",
       "    <tr style=\"text-align: right;\">\n",
       "      <th></th>\n",
       "      <th>locale_id</th>\n",
       "      <th>sentence</th>\n",
       "    </tr>\n",
       "  </thead>\n",
       "  <tbody>\n",
       "    <tr>\n",
       "      <th>0</th>\n",
       "      <td>3</td>\n",
       "      <td>77</td>\n",
       "    </tr>\n",
       "    <tr>\n",
       "      <th>1</th>\n",
       "      <td>4</td>\n",
       "      <td>70</td>\n",
       "    </tr>\n",
       "    <tr>\n",
       "      <th>2</th>\n",
       "      <td>5</td>\n",
       "      <td>69</td>\n",
       "    </tr>\n",
       "    <tr>\n",
       "      <th>3</th>\n",
       "      <td>6</td>\n",
       "      <td>74</td>\n",
       "    </tr>\n",
       "    <tr>\n",
       "      <th>4</th>\n",
       "      <td>7</td>\n",
       "      <td>72</td>\n",
       "    </tr>\n",
       "    <tr>\n",
       "      <th>5</th>\n",
       "      <td>8</td>\n",
       "      <td>53</td>\n",
       "    </tr>\n",
       "  </tbody>\n",
       "</table>\n",
       "</div>"
      ],
      "text/plain": [
       "   locale_id  sentence\n",
       "0          3        77\n",
       "1          4        70\n",
       "2          5        69\n",
       "3          6        74\n",
       "4          7        72\n",
       "5          8        53"
      ]
     },
     "execution_count": 53,
     "metadata": {},
     "output_type": "execute_result"
    }
   ],
   "source": [
    "#Added by: @Derguene\n",
    "# Print keywords and their corresponding language ids\n",
    "keywords_w_ids = keywords.groupby([\"locale_id\"], as_index=False)[\"sentence\"].count()\n",
    "keywords_w_ids"
   ]
  },
  {
   "cell_type": "code",
   "execution_count": 54,
   "metadata": {},
   "outputs": [
    {
     "data": {
      "text/html": [
       "<div>\n",
       "<style scoped>\n",
       "    .dataframe tbody tr th:only-of-type {\n",
       "        vertical-align: middle;\n",
       "    }\n",
       "\n",
       "    .dataframe tbody tr th {\n",
       "        vertical-align: top;\n",
       "    }\n",
       "\n",
       "    .dataframe thead th {\n",
       "        text-align: right;\n",
       "    }\n",
       "</style>\n",
       "<table border=\"1\" class=\"dataframe\">\n",
       "  <thead>\n",
       "    <tr style=\"text-align: right;\">\n",
       "      <th></th>\n",
       "      <th>languages</th>\n",
       "      <th>keywords_nb</th>\n",
       "    </tr>\n",
       "  </thead>\n",
       "  <tbody>\n",
       "    <tr>\n",
       "      <th>0</th>\n",
       "      <td>Diola</td>\n",
       "      <td>77</td>\n",
       "    </tr>\n",
       "    <tr>\n",
       "      <th>1</th>\n",
       "      <td>Mandingue</td>\n",
       "      <td>70</td>\n",
       "    </tr>\n",
       "    <tr>\n",
       "      <th>2</th>\n",
       "      <td>Poular</td>\n",
       "      <td>69</td>\n",
       "    </tr>\n",
       "    <tr>\n",
       "      <th>3</th>\n",
       "      <td>Sérère</td>\n",
       "      <td>74</td>\n",
       "    </tr>\n",
       "    <tr>\n",
       "      <th>4</th>\n",
       "      <td>Wolof</td>\n",
       "      <td>72</td>\n",
       "    </tr>\n",
       "    <tr>\n",
       "      <th>5</th>\n",
       "      <td>Soninké</td>\n",
       "      <td>53</td>\n",
       "    </tr>\n",
       "  </tbody>\n",
       "</table>\n",
       "</div>"
      ],
      "text/plain": [
       "   languages  keywords_nb\n",
       "0      Diola           77\n",
       "1  Mandingue           70\n",
       "2     Poular           69\n",
       "3     Sérère           74\n",
       "4      Wolof           72\n",
       "5    Soninké           53"
      ]
     },
     "execution_count": 54,
     "metadata": {},
     "output_type": "execute_result"
    }
   ],
   "source": [
    "#Added by: @Derguene\n",
    "# Map language ids to their corresponding languages\n",
    "keywords_w_ids[\"locale_id\"] = keywords_w_ids[\"locale_id\"].map(id2lang)\n",
    "keywords_w_ids.rename(columns={'locale_id': 'languages',\n",
    "                                'sentence': 'keywords_nb'}, inplace=True)\n",
    "keywords_w_ids"
   ]
  },
  {
   "cell_type": "code",
   "execution_count": 41,
   "metadata": {},
   "outputs": [
    {
     "data": {
      "text/plain": [
       "array(['O ɓox', 'Ƥetaa-naxak', 'A ñaaƴ', 'Tadik', 'Xarɓaxay', 'Milyaar',\n",
       "       'Milyoŋ', 'Ndeyjoor', 'Juroom-ñett', 'Ñaar', 'Bálamuk ',\n",
       "       'Sibaakiir ', 'Kamay ', 'Ceme', 'Búbaar', 'Juroom-ñaar',\n",
       "       'Ub / Tëj', 'Déedet', 'Gararb', 'Fukk', 'Taxawal', 'Demal', 'Ak',\n",
       "       'Ñeent', 'Junne', 'Lal', 'Xaj', 'Doxal', 'Ubbi / Tijji', 'Tus ',\n",
       "       'Ci suuf', 'Jaay', 'Benn', 'Juroom', 'Jënd', 'Téemeer', 'Càmmooy',\n",
       "       'Juroom-ñeent', 'Ci kow', 'Picc', 'Fanweer', 'Ñett', 'Waaw',\n",
       "       'Ci ginnaaw', 'Ci kanam', 'Juroom-benn', 'Dow     ',\n",
       "       'Teemedɗe ɗiɗi', 'Jeeɗiɗi                ', 'Uddude',\n",
       "       'Ɗiɗi                  ', 'Lees               ',\n",
       "       'Ndiga                  ', 'Soodde', 'Goo                  ',\n",
       "       'Yahde          ', 'Solndu           ', 'Udditde',\n",
       "       'Leɗki             ', 'Ñaamo               ', 'Teemedere',\n",
       "       'Capanɗe tati', 'Alaa ', 'Rawaandu      ', 'Caggal               ',\n",
       "       'Jeetati           ', 'Mbalndi        ', 'Yeeso            ',\n",
       "       'Yeeyde', 'Darnde              ', 'Jeegom               ',\n",
       "       'Capanɗe jeegom', 'Tati                   ',\n",
       "       'Nay                  ', 'Eey ', 'Sappo', 'Yahdu             ',\n",
       "       'Noogaas', 'Joy                ', 'Ujunere', 'Ullunndu      ',\n",
       "       'Jeenay ', 'Nano                ', 'Wet', 'Ƥetik', 'Mbaamir',\n",
       "       'Jik', 'Tus', 'Fo', 'Teemeed', 'Jiku', 'Ndiiƭ', 'Muus', 'Li',\n",
       "       'Xa-aa', 'A cinj', 'Juni', 'Ƥetaa-fo-leng', 'A canoon',\n",
       "       'Ƥetaa-tadak', 'A ñamaak', 'Weg', 'Took', 'Leng', 'A keen', 'Tik',\n",
       "       'Ƥetaa-ƭaq', 'Njong', 'Naxik', 'Miilyaar', 'Ndaxar', 'A tet',\n",
       "       'Qarɓeen-ƭik ', 'A lanq', 'Miilyoŋ', 'Wafiiroo', 'Worowula',\n",
       "       'Fula', 'Milyoŋo', 'Taŋ', 'Laraŋ', 'Taama', 'Bulubaa', 'Santa',\n",
       "       'Sorondiroo', 'Ñaatoo', 'Luulu', 'Ñankuma', 'Niŋ', 'Naani',\n",
       "       'Kiliŋ', 'Kuni', 'Wuli', 'Maraa', 'Sandiroo', 'Duuma', 'Taa',\n",
       "       'Keme', 'Kooma', 'Yiri', 'Haa', 'Milyaaro', 'Wili kiliŋ', 'Saba',\n",
       "       'Yeleroo', 'Hanifeŋ', 'Seyi', 'Kononto', 'Loodula', 'Wooro',\n",
       "       'Hani', 'Fatiya ', 'Kárir', 'Kanoomen', 'Miliyoŋ',\n",
       "       'Futok di sibaakiir', 'Bútinken', 'Waafulet ', 'Sífeejir ', 'Uñen',\n",
       "       'Kakamben', 'Di', 'Eé ', 'Eyen ', 'Tentaam ', 'Funoom',\n",
       "       'Futok di sífeejir', 'Futok di sigaba', 'Bukan kugaba', 'Yákon ',\n",
       "       'Bacaac ', 'Miliyaar', 'Ujaw ', 'Kákambul', 'Futok di yákon',\n",
       "       'Sigaba ', 'Wúli', 'Fácul ', 'Ujuum ', 'Ejangoon ', 'Futok ',\n",
       "       'Esuwa ', 'Kabanan', 'Càmmogn', 'Garab', 'Wujuune', 'Kaane ',\n",
       "       'Wuñi', 'Teye ', 'Tanjikke      ', 'Tanñere   ', 'Tankabe   ',\n",
       "       'Muusine, ñunqume', 'Nooge ', 'Tanfille        ', 'Tannaxate   ',\n",
       "       'Tammu', 'Tandumme', 'Saxurexe ', 'Do                ', 'Sikko ',\n",
       "       'Ayi ', 'Kabu ', 'Texi', 'Sigi ', 'Tummu ', 'Falle ', 'Gaaga',\n",
       "       'Fillo ', 'ñeru', 'Naxato ', 'Karago ', 'Tansege   ', 'Yitte ',\n",
       "       'Wureedu ', 'Baane', 'Kame', 'Tankarage  ', 'Yo ', 'Tere ',\n",
       "       'Kammu ', 'Segu ', 'Kamo filli', 'Yeliŋe ', 'Xobo', 'Wulle ',\n",
       "       'Daga', 'Xafu ', 'Milyoŋ (1 000 000)', 'Ci kow (Haut)',\n",
       "       'Waaw (Oui)', 'Taxawal (Arrêt)', 'Càmmogn (Gauche)',\n",
       "       'Fanweer (30)', 'Benn (1)', 'Juroom-ñaar (7)', 'Jënd (Acheter)',\n",
       "       'Doxal (Marche)', 'Ci kanam (Avant)', 'Fukk (10)', 'Garab (Arbre)',\n",
       "       'Juroom-ñett (8)', 'Jaay (Vendre)', 'Ci ginnaaw (Arrière)',\n",
       "       'Tus (0)', 'Ñeent (4)', 'Ub / Tëj (Fermer)', 'Picc (Oisseau)',\n",
       "       'Ñaar (2)', 'Lal (Lit)', 'Déedet (Non)', 'Ci suuf (Bas)',\n",
       "       'Juroom-ñeent (9)', 'Demal (Aller)', 'Ndeyjoor (Droite)',\n",
       "       'Juroom-benn (6)', 'Ak (Et)', 'Xaj (Chien)', 'Juroom (5)',\n",
       "       'Téemeer (100)', 'Muus (Chat)', 'Futok (5)', 'Tentaam (Bas)',\n",
       "       'Kákambul (Ouvrir)', 'Esuwa (Oisseau)', 'Futok di yákon (6)',\n",
       "       'Yákon (1)', 'Uñen (10)', 'Kakamben (Fermer)', 'Sibaakiir (4)',\n",
       "       'Fatiya (Haut)', 'Futok di sífeejir (8)', 'Sigaba (2)',\n",
       "       'Funoom (Acheter)', 'Eé (Oui)', 'Kamay (Gauche)', 'Búbaar (Arbre)',\n",
       "       'Kanoomen (Vendre)', 'Futok di sibaakiir (9)', 'Bacaac (Lit)',\n",
       "       'Sífeejir (3)', 'Bútinken (15)', 'Ujaw (Marche)',\n",
       "       'Bukan kugaba (40)', 'Wúli (1 000)', 'Di (Et)',\n",
       "       'Futok di sigaba (7)', 'Kárir (Droite)', 'Eyen (Chien)',\n",
       "       'Bálamuk (Arrière)', 'Fácul (Avant)', 'Ujuum (Arrêt)',\n",
       "       'Waafulet (0)', 'Ejangoon (Chat)', 'Ceme (100)', 'Kabanan (20)',\n",
       "       'Mbalndi (Lit)', 'Sappo (10)', 'Jeenay (9)', 'Ndiga (0)',\n",
       "       'Capanɗe jeegom (60)', 'Solndu (Oisseau)', 'Ɗiɗi (2)',\n",
       "       'Jeetati (8)', 'Jeegom (6)', 'Yeeso (Avant)', 'Yahdu (Marche)',\n",
       "       'Xa-aa (Non)', 'A ñamaak (Droite)', 'Teemeed (100)',\n",
       "       'A cinj (Arrière)', 'A ñaaƴ (Marche)', 'Naxik (4)',\n",
       "       'Jik (Acheter)', 'Wet (Ouvrir)', 'Miilyoŋ (1 000 000)',\n",
       "       'Tadik (3)', 'O ɓox (Chien)', 'Ƥetaa-fo-leng (6)', 'Xarɓaxay (10)',\n",
       "       'A canoon (Gauche)', 'A tet (Aller)', 'Njong (Lit)', 'Li (Oui)',\n",
       "       'Ƥetaa-tadak (8)', 'Ndaxar (Arbre)', 'Ƥetik (5)', 'A keen (Arrêt)',\n",
       "       'Ƥetaa-naxak (9)', 'A lanq (Bas)', 'Fo (Et)', 'Ƥetaa-ƭaq (7)',\n",
       "       'Miilyaar (1 000 000 000)', 'Qarɓeen-ƭik (20)', 'Mbaamir (Avant)',\n",
       "       'Weg (Fermer)', 'Juni (1 000)', 'Leng (1)', 'Jiku (Vendre)',\n",
       "       'Tik (2)', 'Took (Haut)', 'Ndiiƭ (Oisseau)', 'Capanɗe tati (30)',\n",
       "       'Ujunere (1000)', 'Nay (4)', 'Teemedere (100)', 'Udditde (Ouvrir)',\n",
       "       'Lees (Bas)', 'Nano (Gauche)', 'Yahde (Aller)    ',\n",
       "       'Ullunndu (Chat)', 'Caggal (Arrière)', 'Tati (3)',\n",
       "       'Yeeyde (Vendre)', 'Rawaandu (Chien)', 'Ñaamo (Droite)',\n",
       "       'Noogaas (20)', 'Jeeɗiɗi (7)', 'Teemedɗe ɗiɗi (200)', 'Dow (Haut)',\n",
       "       'Eey (Oui)', 'Leɗki (Arbre)', 'Hani (Non)', 'Miliyoŋ (1 000 000)',\n",
       "       'Miliyaar (1 000 000 000)', 'Càmmoñ (Gauche)', 'Picc (Oiseau)',\n",
       "       'Solndu (Oiseau)', 'Esuwa (Oiseau)', 'Ndiiƭ (Oiseau)',\n",
       "       'Tanjikke (30)', 'Texi (Fermer)', 'Yeliŋe (Oiseau)',\n",
       "       'Tannaxate (40)', 'Karago (5)', 'Xobo (Acheter)', 'Gaaga (Vendre)',\n",
       "       'Wulle (Chien)', 'Sigi (Arrêt)', 'Tammu (10)', 'Kiliŋ (1)',\n",
       "       'Hanifeŋ (0)', 'Sandiroo (Acheter)', 'Sorondiroo (Fermer)',\n",
       "       'Laraŋ (Lit)', 'Fula (2)', 'Taa (Aller)', 'Santa (Haut)',\n",
       "       'Taŋ (10)', 'Wili kiliŋ (1000)', 'Ñankuma (Chat)', 'Kuni (Oiseau)',\n",
       "       'Kononto (9)', 'Seyi (8)', 'Saba (3)', 'Keme (100)',\n",
       "       'Yeleroo (Ouvrir)', 'Loodula (Arrêt)', 'Bulubaa (Droite)',\n",
       "       'Wooro (6)', 'Ñaatoo (Avant)', 'Luulu (5)', 'Niŋ (Et)',\n",
       "       'Naani (4)', 'Milyoŋo (1 000 000)', 'Worowula (7)',\n",
       "       'Milyaaro (1 000 000 000)', 'Kooma (Arrière)', 'Wafiiroo (Vendre)',\n",
       "       'Wuli (Chien)', 'Taama (Marche)', 'Duuma (Bas)', 'Maraa (Gauche)',\n",
       "       'Yiri (Arbre)', 'Haa (Oui)'], dtype=object)"
      ]
     },
     "execution_count": 41,
     "metadata": {},
     "output_type": "execute_result"
    }
   ],
   "source": [
    "#Added by: @Aziz\n",
    "# Plot the unique keywords\n",
    "keywords"
   ]
  },
  {
   "cell_type": "code",
   "execution_count": 43,
   "metadata": {},
   "outputs": [],
   "source": [
    "#Added by: @Aziz\n",
    "# Let's get the distribution of keywords\n",
    "#sns.countplot(data['sentence'])"
   ]
  },
  {
   "cell_type": "markdown",
   "metadata": {},
   "source": [
    "## Next steps \n",
    "* Choose the keywords that we should use for training , they are over 400 keywords in this dataset\n",
    "* Choose our base line model\n",
    "  * A pretrained/random wav2vec 2.0 model \n",
    "  * Fine-tune our model on the keywords that we choose"
   ]
  },
  {
   "cell_type": "code",
   "execution_count": null,
   "metadata": {},
   "outputs": [],
   "source": []
  }
 ],
 "metadata": {
  "kernelspec": {
   "display_name": "Python 3 (ipykernel)",
   "language": "python",
   "name": "python3"
  },
  "language_info": {
   "codemirror_mode": {
    "name": "ipython",
    "version": 3
   },
   "file_extension": ".py",
   "mimetype": "text/x-python",
   "name": "python",
   "nbconvert_exporter": "python",
   "pygments_lexer": "ipython3",
   "version": "3.9.13"
  },
  "vscode": {
   "interpreter": {
    "hash": "0f9a67ec7f6d96ade3a058296520a1312f42de786ece516e4cad5a3e3b5a54da"
   }
  }
 },
 "nbformat": 4,
 "nbformat_minor": 4
}
